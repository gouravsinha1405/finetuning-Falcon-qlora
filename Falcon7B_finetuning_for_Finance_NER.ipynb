{
  "cells": [
    {
      "cell_type": "markdown",
      "metadata": {
        "id": "view-in-github",
        "colab_type": "text"
      },
      "source": [
        "<a href=\"https://colab.research.google.com/github/gouravsinha1405/finetuning-Falcon-qlora/blob/main/Falcon7B_finetuning_for_Finance_NER.ipynb\" target=\"_parent\"><img src=\"https://colab.research.google.com/assets/colab-badge.svg\" alt=\"Open In Colab\"/></a>"
      ]
    },
    {
      "cell_type": "code",
      "execution_count": 1,
      "metadata": {
        "colab": {
          "base_uri": "https://localhost:8080/",
          "height": 36
        },
        "id": "KMN3QW23AghZ",
        "outputId": "e984df23-ea50-4bf0-a383-4393db6c11d4"
      },
      "outputs": [
        {
          "output_type": "execute_result",
          "data": {
            "text/plain": [
              "'cuda'"
            ],
            "application/vnd.google.colaboratory.intrinsic+json": {
              "type": "string"
            }
          },
          "metadata": {},
          "execution_count": 1
        }
      ],
      "source": [
        "import torch\n",
        "device = \"cuda\" if torch.cuda.is_available() else \"cpu\"\n",
        "device"
      ]
    },
    {
      "cell_type": "code",
      "execution_count": 2,
      "metadata": {
        "colab": {
          "base_uri": "https://localhost:8080/"
        },
        "id": "6AxRxX9ypFUu",
        "outputId": "2071411e-18ba-46b9-bd46-47491116749b"
      },
      "outputs": [
        {
          "output_type": "stream",
          "name": "stdout",
          "text": [
            "Fri Jun 23 10:27:39 2023       \n",
            "+-----------------------------------------------------------------------------+\n",
            "| NVIDIA-SMI 525.85.12    Driver Version: 525.85.12    CUDA Version: 12.0     |\n",
            "|-------------------------------+----------------------+----------------------+\n",
            "| GPU  Name        Persistence-M| Bus-Id        Disp.A | Volatile Uncorr. ECC |\n",
            "| Fan  Temp  Perf  Pwr:Usage/Cap|         Memory-Usage | GPU-Util  Compute M. |\n",
            "|                               |                      |               MIG M. |\n",
            "|===============================+======================+======================|\n",
            "|   0  Tesla V100-SXM2...  Off  | 00000000:00:04.0 Off |                    0 |\n",
            "| N/A   38C    P0    23W / 300W |      2MiB / 16384MiB |      0%      Default |\n",
            "|                               |                      |                  N/A |\n",
            "+-------------------------------+----------------------+----------------------+\n",
            "                                                                               \n",
            "+-----------------------------------------------------------------------------+\n",
            "| Processes:                                                                  |\n",
            "|  GPU   GI   CI        PID   Type   Process name                  GPU Memory |\n",
            "|        ID   ID                                                   Usage      |\n",
            "|=============================================================================|\n",
            "|  No running processes found                                                 |\n",
            "+-----------------------------------------------------------------------------+\n"
          ]
        }
      ],
      "source": [
        "!nvidia-smi"
      ]
    },
    {
      "cell_type": "markdown",
      "source": [
        "## Installations"
      ],
      "metadata": {
        "id": "2PYm6BGaoY-S"
      }
    },
    {
      "cell_type": "code",
      "execution_count": null,
      "metadata": {
        "id": "cu0leLq2GlrF"
      },
      "outputs": [],
      "source": [
        "!pip install -Uqqq pip --progress-bar off\n",
        "!pip install -qqq torch==2.0.1 --progress-bar off\n",
        "!pip install spacy-experimental --progress-bar off\n",
        "!pip install https://github.com/explosion/spacy-experimental/releases/download/v0.6.0/en_coreference_web_trf-3.4.0a0-py3-none-any.whl --progress-bar off\n",
        "!pip install langchain --progress-bar off\n",
        "!pip install openai --progress-bar off\n",
        "!pip install xlsxwriter --progress-bar off\n",
        "!spacy download en_core_web_trf --progress-bar off\n"
      ]
    },
    {
      "cell_type": "code",
      "source": [
        "import warnings\n",
        "warnings.filterwarnings('ignore')\n",
        "from langchain.prompts.few_shot import FewShotPromptTemplate\n",
        "from langchain.prompts.prompt import PromptTemplate\n",
        "import os,json,re\n",
        "from tqdm import tqdm\n",
        "from langchain.llms import OpenAI\n",
        "from langchain.chains import LLMChain\n",
        "from datetime import datetime, timedelta\n",
        "from pprint import pprint\n",
        "import pandas as pd\n",
        "import torch\n",
        "import torch.nn as nn\n",
        "import transformers\n",
        "from datasets import load_dataset\n",
        "from huggingface_hub import notebook_login\n",
        "import spacy\n",
        "import ast\n",
        "import pandas as pd\n",
        "import spacy_transformers\n",
        "import spacy_experimental\n",
        "import locale\n",
        "import requests\n",
        "from bs4 import BeautifulSoup\n",
        "locale.getpreferredencoding = lambda: \"UTF-8\"\n",
        "os.environ[\"OPENAI_API_KEY\"] = \"\""
      ],
      "metadata": {
        "id": "LIkYkJw_eU63"
      },
      "execution_count": null,
      "outputs": []
    },
    {
      "cell_type": "markdown",
      "source": [
        "# Data Preparation (this part should be executed only when we need new data for training)"
      ],
      "metadata": {
        "id": "UMh1XmKAer6Y"
      }
    },
    {
      "cell_type": "markdown",
      "source": [
        "## Clean HTML and extract full data from web page since full article extraction is not available in free tier of NewsAPI"
      ],
      "metadata": {
        "id": "DKZZ5tQ5etmA"
      }
    },
    {
      "cell_type": "code",
      "source": [
        "class clean_HTML:\n",
        "    def __init__(self, df):\n",
        "        self.df = df\n",
        "\n",
        "    def remove_tags(self,html):\n",
        "\n",
        "        # parse html content\n",
        "        soup = BeautifulSoup(html, \"html.parser\")\n",
        "        for data in soup(['style', 'script','footer']):\n",
        "            # Remove tags\n",
        "            data.decompose()\n",
        "\n",
        "        # return data by retrieving the tag content\n",
        "        return ' '.join(soup.stripped_strings)\n",
        "\n",
        "    def scrape_full_news_content(self):\n",
        "\n",
        "        for idx, row in self.df.iterrows():\n",
        "            try:\n",
        "                r = requests.get(row['url'], verify=False)\n",
        "                # get page content after removing unnecessary contents\n",
        "                text = self.remove_tags(r.content)\n",
        "                try:\n",
        "                    # get all the text based on the content\n",
        "                    x = row['content'][:60]\n",
        "                    start_char = re.search(x,text,re.IGNORECASE).span()[0]\n",
        "                    pattern = \"\\[\\+[0-9]+\\s+.*\\]\"\n",
        "                    numeric_pattern = '\\d+'\n",
        "                    num_chars_str = re.findall(pattern,row['content'])[0]\n",
        "                    end_char = int(re.findall(numeric_pattern, num_chars_str)[0])\n",
        "                    self.df.at[idx, 'full_content'] = text[start_char:start_char+end_char+100]\n",
        "                except Exception as e:\n",
        "                    pass\n",
        "            except Exception as e:\n",
        "                print(e)\n",
        "        return self.df.copy()\n"
      ],
      "metadata": {
        "id": "t5-ygszzetJ4"
      },
      "execution_count": null,
      "outputs": []
    },
    {
      "cell_type": "markdown",
      "source": [
        "## Code to fetch news articles"
      ],
      "metadata": {
        "id": "wdjjmHGNe74q"
      }
    },
    {
      "cell_type": "code",
      "source": [
        "def fetch_news_articles(delta=1):\n",
        "    #--all the newsapi domains(provided by business), the tuple contains (domain, query , sheet_name) in order---#\n",
        "    domain_query = [('moneycontrol.com','IPO','moneycontrol'),('indiatimes.com','IPO','times_of_india'),('indiatimes.com','wealth','economics_times'),('livemint.com',None,'livemint'),('business-standard.com',None,'business_standard')]\n",
        "    headers = {'Authorization': ''}\n",
        "    everything_news_url = 'https://newsapi.org/v2/everything'\n",
        "\n",
        "    # for day in tqdm(range(1, duration)):\n",
        "        # fetching the data for duration - 1 days\n",
        "    date = datetime.isoformat(datetime.now()-timedelta(days=delta)).split(\"T\")[0]\n",
        "    print(f\"fetching for date {date}\")\n",
        "    filename = f'news_articles_{date}'\n",
        "    path = os.path.join(os.curdir,f'{filename}.xlsx')\n",
        "    writer = pd.ExcelWriter(path, engine = 'xlsxwriter')\n",
        "    for domain, query, sheet_name in domain_query:\n",
        "        try:\n",
        "            print(f\"Fetching {domain.split('.')[0]} articles\")\n",
        "            everything_payload = {'domains':domain,'q':query,'from':date,'to':date,'sortBy':'popularity'}\n",
        "            response = requests.get(url=everything_news_url, headers=headers, params=everything_payload, verify=False)\n",
        "            # pretty_json_output = json.dumps(response.json(), indent=4)\n",
        "            response_json_string = json.dumps(response.json())\n",
        "            response_dict = json.loads(response_json_string)\n",
        "            # print(response_dict)\n",
        "            articles_list = response_dict['articles']\n",
        "            df = pd.read_json(json.dumps(articles_list))\n",
        "            cleanHtlmlObj = clean_HTML(df)\n",
        "            df = cleanHtlmlObj.scrape_full_news_content()\n",
        "            df.loc[df['full_content'].notnull(),:].to_excel(writer,sheet_name=sheet_name)\n",
        "        except Exception as e:\n",
        "            print(e)\n",
        "            continue\n",
        "    writer.close()\n",
        "for day in range(1,6):\n",
        "  fetch_news_articles(day)"
      ],
      "metadata": {
        "id": "DUmqAKPdfCTx"
      },
      "execution_count": null,
      "outputs": []
    },
    {
      "cell_type": "code",
      "source": [
        "path = r\"/content/\"\n",
        "df = pd.DataFrame()\n",
        "for filename in tqdm(os.listdir(path)):\n",
        "  if re.match(\"^news_articles.*\\.xlsx\",filename):\n",
        "    try:\n",
        "        df = pd.concat([df,pd.read_excel(os.path.join(path,filename),sheet_name='moneycontrol')['full_content']],ignore_index=True)\n",
        "        df = pd.concat([df,pd.read_excel(os.path.join(path,filename),sheet_name='times_of_india')['full_content']],ignore_index=True)\n",
        "        df = pd.concat([df,pd.read_excel(os.path.join(path,filename),sheet_name='economics_times')['full_content']],ignore_index=True)\n",
        "        df = pd.concat([df,pd.read_excel(os.path.join(path,filename),sheet_name='livemint')['full_content']],ignore_index=True)\n",
        "        df = pd.concat([df,pd.read_excel(os.path.join(path,filename),sheet_name='business_standard')['full_content']],ignore_index=True)\n",
        "    except Exception as e:\n",
        "        print(e)\n",
        "        pass\n",
        "df.rename(columns={0:'article'},inplace=True)"
      ],
      "metadata": {
        "id": "xNVizb8bfScC"
      },
      "execution_count": null,
      "outputs": []
    },
    {
      "cell_type": "markdown",
      "source": [
        "# Coreference resolution"
      ],
      "metadata": {
        "id": "MZyvZ4nefpqn"
      }
    },
    {
      "cell_type": "code",
      "source": [
        "class coref_resolution:\n",
        "  def __init__(self,text):\n",
        "    self.text = text\n",
        "\n",
        "  def get_coref_clusters(self,):\n",
        "    \"\"\"This method produces coref clusters\"\"\"\n",
        "    self.nlp = spacy.load(\"en_core_web_trf\")\n",
        "    nlp_coref = spacy.load(\"en_coreference_web_trf\")\n",
        "\n",
        "    # use replace_listeners for the coref components\n",
        "    nlp_coref.replace_listeners(\"transformer\", \"coref\", [\"model.tok2vec\"])\n",
        "    nlp_coref.replace_listeners(\"transformer\", \"span_resolver\", [\"model.tok2vec\"])\n",
        "\n",
        "    # we won't copy over the span cleaner\n",
        "    self.nlp.add_pipe(\"coref\", source=nlp_coref)\n",
        "    self.nlp.add_pipe(\"span_resolver\", source=nlp_coref)\n",
        "\n",
        "    self.doc = self.nlp(self.text)\n",
        "    self.tokens = [str(token) for token in self.doc]\n",
        "    coref_clusters = {key : val for key , val in self.doc.spans.items() if re.match(r\"coref_clusters_*\",key)}\n",
        "\n",
        "    return coref_clusters\n",
        "\n",
        "  def find_span_start_end(self,coref_clusters):\n",
        "    \"\"\"This method finds start and end span of entire text piece in every cluster\"\"\"\n",
        "    cluster_w_spans = {}\n",
        "    for cluster in coref_clusters:\n",
        "      cluster_w_spans[cluster] = [(span.start, span.end, span.text) for span in coref_clusters[cluster]]\n",
        "\n",
        "    return cluster_w_spans\n",
        "\n",
        "  def find_person_start_end(self, coref_clusters,cluster_w_spans):\n",
        "    \"\"\"this function finds the start and end span of PERSON in every element of every cluster\"\"\"\n",
        "    # nlp = spacy.load(\"en_core_web_trf\")\n",
        "    coref_clusters_with_name_spans = {}\n",
        "    for key, val in coref_clusters.items():\n",
        "      temp = [0 for i in range(len(val))]\n",
        "      person_flag = False\n",
        "      for idx, text in enumerate(val):\n",
        "        doc = self.nlp(str(text))\n",
        "        for word in doc.ents:\n",
        "          if word.label_ == 'PERSON':\n",
        "            temp[idx] = (word.start, word.end, word.text)\n",
        "            person_flag = True\n",
        "        for token in doc:\n",
        "          if token.pos_ == 'PRON':\n",
        "            temp[idx] = (token.i,token.i+1,token)\n",
        "      if len(temp) > 0:\n",
        "        if person_flag:\n",
        "          orig = cluster_w_spans[key]\n",
        "          for idx, tup in enumerate(orig):\n",
        "            if isinstance(tup, tuple) and isinstance(temp[idx], tuple):\n",
        "              orig_start, orig_end, text = tup\n",
        "              offset_start, offset_end, _ = temp[idx]\n",
        "              orig_start += offset_start\n",
        "              orig_end = orig_start + (offset_end - offset_start)\n",
        "              orig[idx] = (orig_start, orig_end, text)\n",
        "          coref_clusters_with_name_spans[key] = orig\n",
        "\n",
        "    return coref_clusters_with_name_spans\n",
        "\n",
        "  def replace_refs_w_names(self,coref_clusters_with_name_spans):\n",
        "    \"\"\"This function replaces name references and pronouns by actual name of the person\"\"\"\n",
        "    tokens = self.tokens\n",
        "    special_tokens = [\"my\",\"his\",\"her\",\"mine\"]\n",
        "    for key, val in coref_clusters_with_name_spans.items():\n",
        "      if len(val) > 0 and isinstance(val, list):\n",
        "        head = val[0]\n",
        "        head_start, head_end, _ = head\n",
        "        head_name = \" \".join(tokens[head_start:head_end])\n",
        "        for i in range(1,len(val)):\n",
        "          coref_token_start, coref_token_end, _ = val[i]\n",
        "          count = 0\n",
        "          for j in range(coref_token_start, coref_token_end):\n",
        "            if tokens[j].upper() == \"I\":\n",
        "                count += 1\n",
        "                continue\n",
        "            if count == 0:\n",
        "              if tokens[j].lower() in special_tokens:\n",
        "                if head_name[-1].lower() == \"s\":\n",
        "                  tokens[j] = str(head_name)+\"'\"\n",
        "                else:\n",
        "                  tokens[j] = str(head_name)+\"'s\"\n",
        "              else:\n",
        "                tokens[j] = head_name\n",
        "            else:\n",
        "              tokens[j] = \"\"\n",
        "            count += 1\n",
        "\n",
        "    return tokens\n",
        "\n",
        "  def main(self,):\n",
        "    \"\"\"combines all the steps and returns the coreferenced text\"\"\"\n",
        "    coref_clusters = self.get_coref_clusters()\n",
        "    coref_w_spans = self.find_span_start_end(coref_clusters)\n",
        "    coref_clusters_with_name_spans = self.find_person_start_end(coref_clusters,coref_w_spans)\n",
        "    tokens = self.replace_refs_w_names(coref_clusters_with_name_spans)\n",
        "\n",
        "    return \" \".join(tokens)"
      ],
      "metadata": {
        "id": "8KQ-mfTufvkl"
      },
      "execution_count": null,
      "outputs": []
    },
    {
      "cell_type": "code",
      "source": [
        "df['resolved_content'] = df['article'].progress_apply(lambda text : coref_resolution(text).main())"
      ],
      "metadata": {
        "id": "M_ZjffSsgX8l"
      },
      "execution_count": null,
      "outputs": []
    },
    {
      "cell_type": "code",
      "source": [
        "df.to_excel(\"news_data.xlsx\")"
      ],
      "metadata": {
        "id": "WppbMaktgZLe"
      },
      "execution_count": null,
      "outputs": []
    },
    {
      "cell_type": "markdown",
      "source": [
        "### Create training data json"
      ],
      "metadata": {
        "id": "2hpmJJpsgDO3"
      }
    },
    {
      "cell_type": "code",
      "source": [
        "# memory = ConversationBufferMemory()\n",
        "template = \"\"\"Your task is to extract the person's name from the sentence delimited by triple backticks\n",
        "along with their details mentioned below:\n",
        "1. their designation,\n",
        "2. their companies ,\n",
        "3. Number or percentage of shares bought\n",
        "4. Type of shares\n",
        "5. acquistions\n",
        "\n",
        "The person should be either:\n",
        "1. A person involved in sell or buying of any company's share at a large scale.\n",
        "2. A person who is equivalent to CEO, chairman, board of directors,founder etc.\n",
        "\n",
        "If person name is not present then do not extract anything and respond 'None'\n",
        "Extract the data in the list of python dictionaries format.\n",
        "If the values are not available mark it as 'NA'.\n",
        "\n",
        "\n",
        "sentence : ```{text}```\n",
        " \"\"\"\n",
        "prompt = PromptTemplate(\n",
        "    input_variables=[\"text\"],\n",
        "    template=template,\n",
        ")\n",
        "llm = OpenAI(model_name='gpt-3.5-turbo',temperature=0.6)\n",
        "chain = LLMChain(llm=llm, prompt=prompt)"
      ],
      "metadata": {
        "id": "PTKLjseWf-V8"
      },
      "execution_count": null,
      "outputs": []
    },
    {
      "cell_type": "markdown",
      "source": [
        "### using spacy split text into sentences and then extract values from every sentence"
      ],
      "metadata": {
        "id": "9_wDGzsTgFjc"
      }
    },
    {
      "cell_type": "code",
      "source": [
        "df = pd.read_excel(\"/content/news_data.xlsx\")\n",
        "nlp = spacy.load(\"en_core_web_trf\")\n",
        "final = pd.DataFrame(columns=['corpus_id','news_article','resolved_news_article','sentence','gpt_35_output'])\n",
        "data_count = 0\n",
        "for idx, row in tqdm(df.iterrows()):\n",
        "  doc = nlp(row['resolved_content'])\n",
        "  sent_list = [str(sent) for sent in list(doc.sents)]\n",
        "  for sent in sent_list:\n",
        "    output = chain.run(sent)\n",
        "    if output != 'None':\n",
        "      data_count += 1\n",
        "      final.loc[len(final),:] = [idx, row['article'],row['resolved_content'],sent,output]\n",
        "  if data_count == 250:\n",
        "    break"
      ],
      "metadata": {
        "id": "NGq4hxWAgNEl"
      },
      "execution_count": null,
      "outputs": []
    },
    {
      "cell_type": "markdown",
      "source": [
        "## Some cleaning"
      ],
      "metadata": {
        "id": "hZqgEaMKgl9u"
      }
    },
    {
      "cell_type": "code",
      "source": [
        "final['gpt_35_output'] = final['gpt_35_output'].progress_apply(lambda x : x.replace(\"Output\",\"\"))\n",
        "final['gpt_35_output'] = final['gpt_35_output'].progress_apply(lambda x : x.strip(\"\\n\"))\n",
        "final['gpt_35_output'] = final['gpt_35_output'].progress_apply(lambda x : x.strip())\n",
        "final['gpt_35_output'] = final['gpt_35_output'].progress_apply(lambda x : x.strip(\":\"))"
      ],
      "metadata": {
        "id": "Prv3nNCKgeGX"
      },
      "execution_count": null,
      "outputs": []
    },
    {
      "cell_type": "code",
      "source": [
        "final.loc[~final['gpt_35_output'].str.contains(\"None\"),:].to_excel(\"news_data_gpt35.xlsx\")"
      ],
      "metadata": {
        "id": "LfZ5rYIsgoU9"
      },
      "execution_count": null,
      "outputs": []
    },
    {
      "cell_type": "markdown",
      "source": [
        "# Falcon training"
      ],
      "metadata": {
        "id": "RnibLIf6gzOl"
      }
    },
    {
      "cell_type": "markdown",
      "source": [
        "credits(not entirely copied, made changes as per my use case) : https://www.mlexpert.io/prompt-engineering/fine-tuning-llm-on-custom-dataset-with-qlora"
      ],
      "metadata": {
        "id": "V9ZEMcAZg02F"
      }
    },
    {
      "cell_type": "markdown",
      "source": [
        "### New installations"
      ],
      "metadata": {
        "id": "yiJ0as62g80Y"
      }
    },
    {
      "cell_type": "code",
      "source": [
        "!pip install bitsandbytes --progress-bar off\n",
        "!pip install torch --progress-bar off\n",
        "!pip install git+https://github.com/huggingface/transformers@de9255de27abfcae4a1f816b904915f0b1e23cd9\n",
        "!pip install -U git+https://github.com/huggingface/peft.git --progress-bar off\n",
        "!pip install accelerate==0.20.3\n",
        "!pip install loralib --progress-bar off\n",
        "!pip install einops --progress-bar off"
      ],
      "metadata": {
        "id": "0-k2GZa9gsNv"
      },
      "execution_count": null,
      "outputs": []
    },
    {
      "cell_type": "markdown",
      "source": [
        "## Imports"
      ],
      "metadata": {
        "id": "Pl9EMO6esibM"
      }
    },
    {
      "cell_type": "code",
      "source": [
        "import json\n",
        "import os\n",
        "from pprint import pprint\n",
        "import bitsandbytes as bnb\n",
        "import pandas as pd\n",
        "import torch\n",
        "import torch.nn as nn\n",
        "import transformers\n",
        "from datasets import load_dataset,Dataset\n",
        "from huggingface_hub import notebook_login\n",
        "import transformers\n",
        "from peft import (\n",
        "    LoraConfig,\n",
        "    PeftConfig,\n",
        "    PeftModel,\n",
        "    get_peft_model,\n",
        "    prepare_model_for_kbit_training,\n",
        ")\n",
        "from transformers import (\n",
        "    AutoConfig,\n",
        "    AutoModelForCausalLM,\n",
        "    AutoTokenizer,\n",
        "    BitsAndBytesConfig,\n",
        ")\n",
        "\n",
        "os.environ[\"CUDA_VISIBLE_DEVICES\"] = \"0\""
      ],
      "metadata": {
        "id": "tLnoxyK9sj6W"
      },
      "execution_count": null,
      "outputs": []
    },
    {
      "cell_type": "code",
      "source": [
        "df = pd.read_excel(\"news_data_gpt35.xlsx\")\n",
        "instruction = f\"\"\"Your task is to extract the person's name from the sentence in the input\n",
        "along with their details mentioned below:\n",
        "1. their designation,\n",
        "2. their companies ,\n",
        "3. Number or percentage of shares bought\n",
        "4. Type of shares\n",
        "5. acquistions\n",
        "\n",
        "The person should be either:\n",
        "1. A person involved in sell or buying of any company's share at a large scale.\n",
        "2. A person who is equivalent to CEO, chairman, board of directors,founder etc.\n",
        "\n",
        "If person name is not present then do not extract anything and respond 'None'\n",
        "Extract the data in the list of python dictionaries format.\n",
        "If the values are not available mark it as 'NA'. \"\"\"\n",
        "df['instruction'] = instruction\n",
        "df['input'] = df['sentence']\n",
        "df['output'] = df['gpt_35_output']\n",
        "train_dataset = Dataset.from_pandas(df.loc[:int(len(df)*0.7),['instruction','input','output']])\n",
        "test_dataset = Dataset.from_pandas(df.loc[int(len(df)*0.7):,['instruction','input','output']])"
      ],
      "metadata": {
        "id": "0BnkLzUOhVnv"
      },
      "execution_count": null,
      "outputs": []
    },
    {
      "cell_type": "markdown",
      "source": [
        "## Load the model"
      ],
      "metadata": {
        "id": "02V3oHiAhrDY"
      }
    },
    {
      "cell_type": "code",
      "source": [
        "MODEL_NAME = \"tiiuae/falcon-7b\"\n",
        "# MODEL_NAME = \"tiiuae/falcon-7b-instruct\"\n",
        "bnb_config = BitsAndBytesConfig(\n",
        "    load_in_4bit=True,\n",
        "    bnb_4bit_use_double_quant=True,\n",
        "    bnb_4bit_quant_type=\"nf4\",\n",
        "    bnb_4bit_compute_dtype=torch.bfloat16,\n",
        ")\n",
        "\n",
        "model = AutoModelForCausalLM.from_pretrained(\n",
        "    MODEL_NAME,\n",
        "    device_map=\"auto\",\n",
        "    trust_remote_code=True,\n",
        "    quantization_config=bnb_config,\n",
        ")\n",
        "\n",
        "tokenizer = AutoTokenizer.from_pretrained(MODEL_NAME)\n",
        "tokenizer.pad_token = tokenizer.eos_token"
      ],
      "metadata": {
        "id": "EM6p2HdNhp2P"
      },
      "execution_count": null,
      "outputs": []
    },
    {
      "cell_type": "code",
      "source": [
        "model.gradient_checkpointing_enable()\n",
        "model = prepare_model_for_kbit_training(model)"
      ],
      "metadata": {
        "id": "a1CdDifWhx8H"
      },
      "execution_count": null,
      "outputs": []
    },
    {
      "cell_type": "code",
      "source": [
        "config = LoraConfig(\n",
        "    r=16,\n",
        "    lora_alpha=32,\n",
        "    target_modules=[\"query_key_value\"],\n",
        "    lora_dropout=0.05,\n",
        "    bias=\"none\",\n",
        "    task_type=\"CAUSAL_LM\",\n",
        ")\n",
        "\n",
        "model = get_peft_model(model, config)"
      ],
      "metadata": {
        "id": "zKHTlZvFh1Nn"
      },
      "execution_count": null,
      "outputs": []
    },
    {
      "cell_type": "code",
      "source": [
        "def generate_prompt(data_point):\n",
        "    return f\"\"\"Below is an instruction that describes a task, paired with an input that provides further context. Write a response that appropriately completes the request.\n",
        "### Instruction:\n",
        "{data_point[\"instruction\"]}\n",
        "### Input:\n",
        "{data_point[\"input\"]}\n",
        "### Response:\n",
        "{data_point[\"output\"]}\"\"\"\n",
        "\n",
        "def generate_and_tokenize_prompt(data_point):\n",
        "    full_prompt = generate_prompt(data_point)\n",
        "    tokenized_full_prompt = tokenizer(full_prompt, padding=True)\n",
        "    return tokenized_full_prompt\n",
        "\n",
        "train_data = train_dataset.shuffle().map(generate_and_tokenize_prompt)\n",
        "test_data = test_dataset.shuffle().map(generate_and_tokenize_prompt)"
      ],
      "metadata": {
        "id": "ue5pZvB3h7i3"
      },
      "execution_count": null,
      "outputs": []
    },
    {
      "cell_type": "code",
      "source": [
        "OUTPUT_DIR = \"outputs\"\n",
        "\n",
        "training_args = transformers.TrainingArguments(\n",
        "    per_device_train_batch_size=1,\n",
        "    gradient_accumulation_steps=4,\n",
        "    num_train_epochs=1,\n",
        "    learning_rate=2e-4,\n",
        "    fp16=True,\n",
        "    save_total_limit=3,\n",
        "    logging_steps=1,\n",
        "    output_dir=OUTPUT_DIR,\n",
        "    max_steps=120,\n",
        "    optim=\"paged_adamw_8bit\",\n",
        "    lr_scheduler_type=\"cosine\",\n",
        "    warmup_ratio=0.05,\n",
        ")"
      ],
      "metadata": {
        "id": "Ns6scpgjh_bB"
      },
      "execution_count": null,
      "outputs": []
    },
    {
      "cell_type": "code",
      "source": [
        "trainer = transformers.Trainer(\n",
        "    model=model,\n",
        "    train_dataset=train_data,\n",
        "    args=training_args,\n",
        "    data_collator=transformers.DataCollatorForLanguageModeling(tokenizer, mlm=False),\n",
        ")"
      ],
      "metadata": {
        "id": "0vNRDxDjiAdZ"
      },
      "execution_count": null,
      "outputs": []
    },
    {
      "cell_type": "code",
      "source": [
        "model.config.use_cache = False\n",
        "trainer.train()"
      ],
      "metadata": {
        "id": "Fy21mBpmiDqg"
      },
      "execution_count": null,
      "outputs": []
    },
    {
      "cell_type": "code",
      "source": [
        "def generate_output(text,model,device):\n",
        "  data_point = {}\n",
        "  data_point['instruction'] = instruction\n",
        "  data_point['input'] = text\n",
        "  data_point['output'] = \"\"\n",
        "  PROMPT = generate_prompt(data_point)\n",
        "\n",
        "  input_text = PROMPT\n",
        "  encoding = tokenizer(input_text, return_tensors = \"pt\").to(device)\n",
        "  # tokenized_ouptut = tokenizer.encode(output_text, return_tensors = \"pt\").cuda()\n",
        "\n",
        "\n",
        "  generation_config = model.generation_config\n",
        "  generation_config.max_new_tokens = 200\n",
        "  generation_config.temperature = 0.3\n",
        "  generation_config.top_p = 0.7\n",
        "  generation_config.num_return_sequences = 1\n",
        "  generation_config.pad_token_id = tokenizer.eos_token_id\n",
        "  generation_config.eos_token_id = tokenizer.eos_token_id\n",
        "  with torch.inference_mode():\n",
        "    generation_output = model.generate(\n",
        "        input_ids=encoding.input_ids,\n",
        "        attention_mask=encoding.attention_mask,\n",
        "        generation_config=generation_config,\n",
        "    )\n",
        "  return tokenizer.decode(generation_output[0][-200:], skip_special_tokens=True)\n",
        "  # return tokenizer.decode(prediction).split(\"<|endoftext|>\")[0]"
      ],
      "metadata": {
        "id": "jeB4Psd6iGwJ"
      },
      "execution_count": null,
      "outputs": []
    },
    {
      "cell_type": "code",
      "source": [
        "if torch.cuda.is_available():\n",
        "    device = f\"cuda:{torch.cuda.current_device()}\"\n",
        "    text = test_data[0]\n",
        "    output = generate_output(text,model,device)\n",
        "    refined_output = \",\".join(set([i.strip(\"\\n\") for i in output.split(\"### Response:\")]))\n",
        "    print(refined_output)\n"
      ],
      "metadata": {
        "id": "kEPCoOSeiLFw"
      },
      "execution_count": null,
      "outputs": []
    },
    {
      "cell_type": "code",
      "source": [
        "notebook_login()"
      ],
      "metadata": {
        "colab": {
          "base_uri": "https://localhost:8080/",
          "height": 145,
          "referenced_widgets": [
            "f14b04352af1435cbc2902dd2223a864",
            "15a150001ee047e7997b10bc6cba6ebc",
            "7ecb66dab0f24791b4e135a861aa5596",
            "ede902ac994947b7bfbed89375462d5e",
            "e81feb1803404658940e2c615bad2c14",
            "f987e4c38be54d8282e2deaaa6af9a3c",
            "5ddd8b1b49494b92bb32831b0b230da5",
            "ddd6eb24c4e74815977c5854bdf18416",
            "253dccbc08f7490baf876a45aaa1dceb",
            "0b9d78f9817e4df089c33f33a63abedc",
            "28eb759bcc8d44f7a4c8cb2b44c10283",
            "e98e9b6e0c6f4982aa5aa6caa7bcc2f7",
            "77e0cea671a245be99bfca070d726cf5",
            "f973c3f78f14428c9d888048fcd29c13",
            "680257c62a2a4a8bb40ee545bf23abb8",
            "145c680f2da248c88a11f23e028b95da",
            "4d9c6724d3a348de86ebd47aa845cf45",
            "b0c9eec5cefc4fd0b5bea5bcadefdeae",
            "ffcc798fe3614653a6bffecaaf6cda67",
            "bc45aef5bf0a43188929a5e1a277e52e",
            "8859b81dde4045458d3f1cc4231df65c",
            "429b4800a8a846c4bfab6242036d355f",
            "c1090dbda1ae486cad1eba69cd836447",
            "edec9de2cd82439a88f2d31573819455",
            "c18b70cb74f6403c8b1db7d3bb2185ac",
            "88b0919744704d2aa4a0fcafb3a91a65",
            "28a9d9ac16eb4cddafd3c494e58f75b6",
            "2ff2b8550cdc4ddf8bf7e1871522eac7",
            "daecd6a6f6b047f1b2a88aa6d700faf0",
            "ca77499c7a8446f18f95b2ba8808c048",
            "0b8a579fa4a94facb733b5ad53e3b83f",
            "770b551243744b6588be08e238d2e4e5"
          ]
        },
        "id": "gbIqSDrps9KN",
        "outputId": "8a8e3667-3173-436e-ff12-5fd0d12e53b6"
      },
      "execution_count": 5,
      "outputs": [
        {
          "output_type": "display_data",
          "data": {
            "text/plain": [
              "VBox(children=(HTML(value='<center> <img\\nsrc=https://huggingface.co/front/assets/huggingface_logo-noborder.sv…"
            ],
            "application/vnd.jupyter.widget-view+json": {
              "version_major": 2,
              "version_minor": 0,
              "model_id": "f14b04352af1435cbc2902dd2223a864"
            }
          },
          "metadata": {}
        }
      ]
    },
    {
      "cell_type": "code",
      "source": [
        "model.push_to_hub(\"<>\", use_auth_token=True)"
      ],
      "metadata": {
        "id": "gXt7xrSjipDx"
      },
      "execution_count": null,
      "outputs": []
    },
    {
      "cell_type": "markdown",
      "source": [
        "## Load the model and infer"
      ],
      "metadata": {
        "id": "sCUqsibOiafx"
      }
    },
    {
      "cell_type": "markdown",
      "source": [
        "### loading the config first and then the model. The model and tokenizer are using the base model path (Falcon 7b in this case). The final model is a PeftModel that wraps the original model and adds the QLoRA adapter"
      ],
      "metadata": {
        "id": "F8ZnF4Duidqy"
      }
    },
    {
      "cell_type": "code",
      "source": [
        "PEFT_MODEL = r\"gouravsinha/falcon-financial-NER\"\n",
        "bnb_config = BitsAndBytesConfig(\n",
        "    load_in_4bit=True,\n",
        "    bnb_4bit_use_double_quant=True,\n",
        "    bnb_4bit_quant_type=\"nf4\",\n",
        "    bnb_4bit_compute_dtype=torch.bfloat16,\n",
        ")\n",
        "config = PeftConfig.from_pretrained(PEFT_MODEL)\n",
        "model = AutoModelForCausalLM.from_pretrained(\n",
        "    config.base_model_name_or_path,\n",
        "    return_dict=True,\n",
        "    quantization_config=bnb_config,\n",
        "    device_map=\"auto\",\n",
        "    trust_remote_code=True,\n",
        ")\n",
        "tokenizer = AutoTokenizer.from_pretrained(config.base_model_name_or_path)\n",
        "tokenizer.pad_token = tokenizer.eos_token\n",
        "\n",
        "model = PeftModel.from_pretrained(model, PEFT_MODEL)"
      ],
      "metadata": {
        "colab": {
          "base_uri": "https://localhost:8080/",
          "height": 49,
          "referenced_widgets": [
            "6fd6a79002424475a8bbb867f78add50",
            "a699deaceac5441194857bd7ea6c5917",
            "d6758d52f6774f49a8389822022ec520",
            "8be97657738f4b2bb4778348630f12f2",
            "66be1f3bffab4144a643ee66c367de86",
            "8ed8e2a1a1d247e18bfcafcd159a6cdb",
            "ec831149da3a430c85f5f782944be1ae",
            "ef64490461b94efd9ce37c7b19df3e59",
            "101372f4e2744b919bef2dbfc2b27b9f",
            "4a73e681658e4dd0b0692a0d596cb62e",
            "133f021046c749cbb9cd597d67f437e5"
          ]
        },
        "id": "9A6Ghxass8Is",
        "outputId": "ed1c1402-d183-450c-b7f5-9c5755006c74"
      },
      "execution_count": 4,
      "outputs": [
        {
          "output_type": "display_data",
          "data": {
            "text/plain": [
              "Loading checkpoint shards:   0%|          | 0/2 [00:00<?, ?it/s]"
            ],
            "application/vnd.jupyter.widget-view+json": {
              "version_major": 2,
              "version_minor": 0,
              "model_id": "6fd6a79002424475a8bbb867f78add50"
            }
          },
          "metadata": {}
        }
      ]
    },
    {
      "cell_type": "markdown",
      "source": [
        "### In case you have built a pipeline like i created in falcon_pipeline.py , you may use code below"
      ],
      "metadata": {
        "id": "mZQooWUni-eZ"
      }
    },
    {
      "cell_type": "code",
      "source": [
        "from falcon_pipeline import FinanceNER\n",
        "pipe = FinanceNER(model)"
      ],
      "metadata": {
        "id": "4FVXHk9-u5CJ"
      },
      "execution_count": 5,
      "outputs": []
    },
    {
      "cell_type": "markdown",
      "source": [
        "## Examples"
      ],
      "metadata": {
        "id": "T7JYF3XJzUBb"
      }
    },
    {
      "cell_type": "code",
      "source": [
        "text = \"\"\"Mumbai: India's largest drone manufacturing company, IdeaForge Technology, has completed its pre-IPO (initial public offering) placement at a valuation of around ₹2,500 crore, banking sources told ET. The round, which raised ₹60 crore, saw participation from institutional investors, including Tata AIG General Insurance, 360 One Asset Management, Motilal Oswal Mutual Fund, and Think Investments PCC, a foreign institutional investor, said bankers . IdeaForge, according to bankers, filed its red herring prospectus earlier this week. The company is expected to launch its public issue at the end of this month. The issue size is estimated to be around ₹650 crore with an offer for sale (OFS) component of around ₹350 crore and fresh fundraising of ₹300 crore. Under the OFS, promoter Ashish Bhat will sell 180,000 shares, Amarpreet Singh will offload 8,362 shares, and Nambirajan Seshadri will sell 22,600 shares. Other selling shareholders include A&E Investment LLC, Agarwal Trademart, and Celesta Capital II Mauritius. IdeaForge filed its draft red herring prospectus (DRHP) with Sebi in February this year and recently received its approval. The company has been backed by several marquee ventures and private equity investors, including Qualcomm Asia, Infosys , and Celesta Capital. Mathew Cyriac-backed Florintree Enterprises is the single largest shareholder in the company with approximately 12% stake. Proceeds from its fresh issuance will be utilised to repay certain indebtedness availed by the company, fund working capital requirements, and invest in product development and general corporate purposes. IdeaForge is a market leader in India's unmanned aircraft systems (UAS) market, with a market share of approximately 50% in fiscal 2022. The company was incubated at IIT Bombay in 2007 and is one of the first few players in manufacturing commercial drones in India. The company is one of the leading players in manufacturing drones in the dual-use category (civil and defen\"\"\""
      ],
      "metadata": {
        "id": "veCOnFIP1-5z"
      },
      "execution_count": 7,
      "outputs": []
    },
    {
      "cell_type": "code",
      "source": [
        "pipe(text)"
      ],
      "metadata": {
        "colab": {
          "base_uri": "https://localhost:8080/",
          "height": 363
        },
        "id": "28Kzwc8TA4tk",
        "outputId": "ead937a5-e3d9-499d-ac20-d20684101b0f"
      },
      "execution_count": 8,
      "outputs": [
        {
          "output_type": "stream",
          "name": "stdout",
          "text": [
            "performing coref resolution.....\n",
            "splitting text into sentences .....\n",
            "discarding irrelevant sentences ......\n",
            "generating output .......\n",
            "*******************************************\n",
            "input sentence :  Under the OFS , promoter Ashish Bhat will sell 180,000 shares , Amarpreet Singh will offload 8,362 shares , and Nambirajan Seshadri will sell 22,600 shares .\n",
            "output:  [{'Name': 'Amarpreet Singh', 'Designation': 'NA', 'Companies': 'NA', 'Shares Bought/Sold': '8,362', 'Type of Shares': 'NA', 'Acquisitions': 'NA'}],[{'Name': 'Nambirajan Seshadri', 'Designation': 'NA', 'Companies': 'NA', 'Shares Bought/Sold': '22,600', 'Type of Shares': 'NA', 'Acquisitions':,[{'Name': 'Ashish Bhat', 'Designation': 'Promoter', 'Companies': 'NA', 'Shares Bought/Sold': '180,000', 'Type of Shares': 'NA', 'Acquisitions': 'NA'}]\n",
            "********************************************\n",
            "*******************************************\n",
            "input sentence :  Mathew Cyriac - backed Florintree Enterprises is the single largest shareholder in the company with approximately 12 % stake .\n",
            "output:  [{'Name': 'Mathew Cyriac', 'Designation': 'NA', 'Companies': 'Florintree Enterprises', 'Shares Bought/Sold': 'NA', 'Type of Shares': 'NA', 'Acquisitions': 'NA'}],[{'Name': 'Mathew Cyriac', 'Designation': 'NA', 'Companies': 'Florintree Enterprises', 'Shares Bought/Sold': 'NA', 'Type of Shares': 'NA', 'Acquisitions':\n",
            "********************************************\n"
          ]
        },
        {
          "output_type": "execute_result",
          "data": {
            "text/plain": [
              "\"[{'Name': 'Amarpreet Singh', 'Designation': 'NA', 'Companies': 'NA', 'Shares Bought/Sold': '8,362', 'Type of Shares': 'NA', 'Acquisitions': 'NA'}],[{'Name': 'Nambirajan Seshadri', 'Designation': 'NA', 'Companies': 'NA', 'Shares Bought/Sold': '22,600', 'Type of Shares': 'NA', 'Acquisitions':,[{'Name': 'Ashish Bhat', 'Designation': 'Promoter', 'Companies': 'NA', 'Shares Bought/Sold': '180,000', 'Type of Shares': 'NA', 'Acquisitions': 'NA'}],[{'Name': 'Mathew Cyriac', 'Designation': 'NA', 'Companies': 'Florintree Enterprises', 'Shares Bought/Sold': 'NA', 'Type of Shares': 'NA', 'Acquisitions': 'NA'}],[{'Name': 'Mathew Cyriac', 'Designation': 'NA', 'Companies': 'Florintree Enterprises', 'Shares Bought/Sold': 'NA', 'Type of Shares': 'NA', 'Acquisitions':\""
            ],
            "application/vnd.google.colaboratory.intrinsic+json": {
              "type": "string"
            }
          },
          "metadata": {},
          "execution_count": 8
        }
      ]
    },
    {
      "cell_type": "code",
      "source": [
        "text = \"\"\"Mumbai: Four state-owned financial entities - Punjab National Bank , Life Insurance Corporation of India , State Bank of India , and Bank of Baroda - that together own just over 45% of UTI Asset Management Company (AMC) are understood to be working on inviting formal bids for selling their stakes, top officials close to the development told ET. Industry sources said these entities have recently appointed merchant bankers to initiate the sale process. Earlier, the Tata Group was understood to be in advanced talks to buy a majority stake in UTI AMC from the four public sector entities, but the discussions fell through after a large investor in the AMC insisted that the other investors follow a formal bidding process to sell their stakes instead of using the nomination route, said one of the officials cited above. There were also some issues that had to be sorted around the stakes held, it is learnt. The Tata Group will now put in a fresh bid for the AMC, officials close to the development said. In September last year, the Department of Investment and Public Asset Management (Dipam) issued detailed guidelines for public sector companies on dealing with their downstream investments. While giving state entities greater autonomy, the government has asked the respective boards to follow thorough due diligence on qualified bidders, including assessment of security risks and political clearance of qualified bidders if the latter is necessary from a national security standpoint. Not Classified as Promoters ET's mailed queries to UTI AMC, Punjab National Bank, Life Insurance Corporation of India, State Bank of India, Bank of Baroda and the Tata Group remained unanswered. Although UTI AMC had earlier denied talks of a stake sale by the four public-sector sponsors, the Tata Group is keen on buying the 45% stake from the four state-owned financial entities as its current asset management business is very small. To be a significant player in the segment, the Tata Group must scale up, and the merger & acquisition route seems to be the only way to do so quickly, one of the officials cited above said. Purse & Purpose \"It is mostly the Tata Group, which has a serious intent to scale up its asset management business and (has) the deep pockets to fund such an acquisition,\" said a highly placed official at a leading mutual fund. UTI AMC, which was carved out of the erstwhile Unit Trust of India (UTI) in 2003, has no promoters but sponsors, such as the four entities interested in selling their stakes. The other large investor in the AMC is T Rowe Price Group Inc which, through its wholly owned subsidiary T Rowe Price International, held a 22.96% stake in UTI AMC as on March 31, 2023. The public-sector entities, which together own 45%, are not classified as promoters of the AMC because they also have their own asset management businesses, and Securities and Exchange Board of India (Sebi) rules bar companies from being promoters of more than one asset manager. Furthermore, India's takeover rules mandate the acquirer of 25% stake in a publicly listed company to mandatorily make an open offer to other shareholders for buying an additional 26% equity. Hence, a single buyer of the entire 45% stake will be ordinarily required to make an open offer for an additional 26%. UTI AMC, which was listed in October 2020, commands a market capitalisation of ₹8,800 crore as of Wednesday. Assets under management (AUM) of UTI AMC, as of March 31, 2023, were ₹2.39 lakh crore, or about 6% of the total industry AUM. Shares of UTI AMC declined 11% in the past six months, compared with gains of half a percent in the benchmark Nifty. For the year ended March 31, 2023, UTI AMC posted an 18% year-on-year decline in its net profit at Rs 440 crore on revenue of Rs 1,267 crore. Last year, Punjab National Bank said it wanted to monetise its non-core assets, including selling its stake in UTI AMC. In October 2020, the lender sold a 3% stake in UTI AMC for around ₹180 crore, bringing down ownership to 15.22%. In December 2019, Sebi directed LIC , SBI , and BoB to reduce their stakes in UTI AMC by December 2020. These three public sector financial institutions held 18.24% each back then, while Sebi's cross-holding norms for mutual funds do not allow the sponsor of one AMC to hold more than 10% in another. Subsequently, these three firms reduced their stakes below 10% during the IPO in October 2020. Don’t\"\"\""
      ],
      "metadata": {
        "id": "uSTkz9STXzeI"
      },
      "execution_count": 9,
      "outputs": []
    },
    {
      "cell_type": "code",
      "source": [
        "pipe(text)"
      ],
      "metadata": {
        "colab": {
          "base_uri": "https://localhost:8080/",
          "height": 108
        },
        "id": "qvUzyRu_Y_KB",
        "outputId": "9e9cb787-4d1b-4213-9e8f-cfbda1eb86ab"
      },
      "execution_count": 10,
      "outputs": [
        {
          "output_type": "stream",
          "name": "stdout",
          "text": [
            "performing coref resolution.....\n",
            "splitting text into sentences .....\n",
            "discarding irrelevant sentences ......\n",
            "generating output .......\n"
          ]
        },
        {
          "output_type": "execute_result",
          "data": {
            "text/plain": [
              "''"
            ],
            "application/vnd.google.colaboratory.intrinsic+json": {
              "type": "string"
            }
          },
          "metadata": {},
          "execution_count": 10
        }
      ]
    },
    {
      "cell_type": "code",
      "source": [
        "text = \"\"\"A significant percentage of companies in India believe the advent of 5G will herald a transformative era in the world of work, unlocking a wealth of opportunities for India's tech talent pool, says a report. According to the report by staffing company TeamLease Services , over 80 per cent of respondents believe that IT and banking and Financial Services will benefit from the 5G technology in terms of job creation and upskilling. The report titled \"India's 5G rollout: Revolutionising the People Supply Chain\" is based on responses of over 247 companies on the impact of 5G on the ecosystem and employment generation. \"With substantial investments, such as the PLI scheme allocating Rs 12,000 crore to the telecom sector, with approximately 25 per cent dedicated to creating new jobs, we are poised for a positive outlook on job creation and upskilling,\" TeamLease Services CEO - Staffing, Kartik Narayan said. This will boost confidence to harness the potential of 5G, creating unprecedented job opportunities, driving innovation and shaping a transformative future, he added. The adoption of 5G will have significant impact on industries such as BFSI (60 per cent), education (48 per cent), gaming (48 per cent) and retail and e-commerce (46 per cent), the report said. On a year-on-year basis, 46 per cent of participants anticipate job creation ranging from 61 per cent to 80 per cent within the first year of 5G implementation. Discover the stories of your interest Blockchain 5 Stories Cyber-safety 7 Stories Fintech 9 Stories E-comm 9 Stories ML 8 Stories Edtech 6 Stories \"Telecommunications companies embracing 5G solutions present a promising growth opportunity. As telcos leverage the potential of 5G in network upgradation, migration, IoT/IIoT, mobility, network infrastructure, and network security, we anticipate increased hiring for specialised roles,\" Narayan said. This advancement creates new opportunities and drives demand for roles such as technical content writers, networking engineers, AI/ML professionals, UX designers, cloud computing engineers, cybersecurity specialists, data science and analytical experts and more, he added. The report, however, noted that the telecom industry is facing a considerable demand-supply gap of 28 per cent, which emphasises the urgent need for comprehensive upskilling and reskilling initiatives. Encouragingly, 88 per cent of employees expressed a preference for upskilling, indicating a strong desire to enhance their existing skill sets, the report said. Additionally, 11.2 per cent of employees showed a preference for reskilling, presenting significant opportunities in the job market for fresh talent, it added. The report also highlighted the impact of 5G on job creation over the next few years, with 41 per cent of respondents expecting an impact of more than 80 per cent on job creation over the next three ye\"\"\""
      ],
      "metadata": {
        "id": "bXmtVlota5jp"
      },
      "execution_count": 11,
      "outputs": []
    },
    {
      "cell_type": "code",
      "source": [
        "pipe(text)"
      ],
      "metadata": {
        "colab": {
          "base_uri": "https://localhost:8080/",
          "height": 327
        },
        "id": "gE6v5Xoea6w6",
        "outputId": "cf5cee2c-7178-4b55-cfaa-3244d3605fa3"
      },
      "execution_count": 12,
      "outputs": [
        {
          "output_type": "stream",
          "name": "stdout",
          "text": [
            "performing coref resolution.....\n",
            "splitting text into sentences .....\n",
            "discarding irrelevant sentences ......\n",
            "generating output .......\n",
            "*******************************************\n",
            "input sentence :  \" With substantial investments , such as the PLI scheme allocating Rs 12,000 crore to the telecom sector , with approximately 25 per cent dedicated to creating new jobs , we are poised for a positive outlook on job creation and upskilling , \" TeamLease Services CEO - Staffing , Kartik Narayan said .\n",
            "output:  [{'Name': 'Kartik Narayan', 'Designation': 'CEO - Staffing', 'Companies': 'TeamLease Services', 'Shares Bought/Sold': 'NA', 'Type of Shares': 'NA', 'Acquisitions': 'NA'}]\n",
            "### Response Type:\n",
            "[{'Name': 'Kartik Narayan', 'Designation': 'CEO - Staffing', 'Companies': 'TeamLease Services', 'Shares Bought/Sold': 'NA', 'Type of Shares': 'NA', 'Acquisitions': 'NA'}]\n",
            "### Response Type:\n",
            "[{'Name': 'Kartik Narayan', 'Designation': 'CEO - Staffing', 'Companies': 'TeamLease Services', 'Shares Bought/Sold': 'NA', '\n",
            "********************************************\n"
          ]
        },
        {
          "output_type": "execute_result",
          "data": {
            "text/plain": [
              "\"[{'Name': 'Kartik Narayan', 'Designation': 'CEO - Staffing', 'Companies': 'TeamLease Services', 'Shares Bought/Sold': 'NA', 'Type of Shares': 'NA', 'Acquisitions': 'NA'}]\\n### Response Type:\\n[{'Name': 'Kartik Narayan', 'Designation': 'CEO - Staffing', 'Companies': 'TeamLease Services', 'Shares Bought/Sold': 'NA', 'Type of Shares': 'NA', 'Acquisitions': 'NA'}]\\n### Response Type:\\n[{'Name': 'Kartik Narayan', 'Designation': 'CEO - Staffing', 'Companies': 'TeamLease Services', 'Shares Bought/Sold': 'NA', '\""
            ],
            "application/vnd.google.colaboratory.intrinsic+json": {
              "type": "string"
            }
          },
          "metadata": {},
          "execution_count": 12
        }
      ]
    },
    {
      "cell_type": "code",
      "source": [
        "text = \"\"\"Analysts believe IKIO Lighting will list at a strong premium on June 16 given the premium at which it trades in the grey market, demand for the shares during book building and strong outlook of its business in the long term.\n",
        "\n",
        "“Considering the overwhelming response the IKIO IPO received and its current grey market premium, we can expect an upside listing at around 30–35 percent, and the company's current performance and growth potential justify this gain,” said Anubhuti Mishra, Equity Research Analyst at Swastika Investmart Ltd.\n",
        "\n",
        "“Secondly, its strong focus on R&amp;D and backward integration, its well-established relationship with clients, and its consistent financial performance are also some reasons why this IPO is attracting such demand.”\n",
        "\n",
        "Incidentally, the grey market premium came down in the last few days, which hit a peak of Rs 125 or 44 percent over the issue price. It fell amid consolidation in the secondary market. However, analysts are unperturbed.\n",
        "\n",
        "“We are expecting the company to list at 25-30 percent premium,” said Astha Jain, Senior Research Analyst at Hem Securities. “We recommend partial profit booking on the listing day if it trades at 30-35 percent premium.”\n",
        "\n",
        "She advised investors, who got the allocation to hold partial allotment for the long-term as the company is well poised to capture growth of the LED market with a diverse product basket and focus on high-margin areas.\n",
        "\n",
        "Among the key strengths of the company, analysts highlight, are long-term relationships with leading industry customers, a strong focus on R&amp;D, established infrastructure with backward integration along with strong and consistent financial performance.\n",
        "\n",
        "The maiden public issue of Noida-based IKIO was subscribed 66.30 times during June 6-8 with qualified institutional buyers' (QIBs) reserved portion being booked 163.58 times, high networth individuals (HNIs) 63.35 times and retail 13.86 times.\n",
        "\n",
        "“IKIO Lighting has attracted strong interest from market participants and is expected to list at a significant premium to the issue price,” said Manish Chowdhury Head of Research Stoxbox. “We attribute this robust expectation to the company’s adoption of the ODM business model which aids it to maintain long-term relationships with customers and is margin accretive due to higher premiums charged for its designs.”\n",
        "\n",
        "He added that the company’s focus to diversify into newer products along with the high growth potential of the Indian high-end home and decorative lighting market bodes well for the company’s future business prospects.\n",
        "\n",
        "Its products are categorised as LED lighting, refrigeration lights, ABS (acrylonitrile butadiene styrene) piping and other products.\n",
        "\n",
        "IKIO and its shareholders raised Rs 606.5 crore via public issue, at the upper end of the price band of Rs 270-285 per share, comprising a fresh issue of Rs 350 crore.\n",
        "\n",
        "(With inputs from Sunil Shankar Matkar)\n",
        "\n",
        "Disclaimer: The views and investment tips expressed by investment experts on Moneycontrol.com are their own and not those of the website or it\"\"\""
      ],
      "metadata": {
        "id": "ngs4EfjwfNG9"
      },
      "execution_count": 13,
      "outputs": []
    },
    {
      "cell_type": "code",
      "source": [
        "pipe(text)"
      ],
      "metadata": {
        "colab": {
          "base_uri": "https://localhost:8080/",
          "height": 1000
        },
        "id": "pWUL6dL73eJw",
        "outputId": "5933441f-4dd0-4539-feb9-cc1c6466fba7"
      },
      "execution_count": 14,
      "outputs": [
        {
          "output_type": "stream",
          "name": "stdout",
          "text": [
            "performing coref resolution.....\n",
            "splitting text into sentences .....\n",
            "discarding irrelevant sentences ......\n",
            "generating output .......\n",
            "*******************************************\n",
            "input sentence :  “ Considering the overwhelming response the IKIO IPO received and its current grey market premium , we can expect an upside listing at around 30–35 percent , and the company 's current performance and growth potential justify this gain , ” said Anubhuti Mishra , Equity Research Analyst at Swastika Investmart Ltd.\n",
            "output:  [“ Considering the overwhelming response the IKIO IPO received and its current grey market premium, we can expect an upside listing at around 30–35 percent, and the company's current performance and growth potential justify this gain, ” said Anubhuti Mishra, Equity Research Analyst at Swastika Investmart Ltd. ]\n",
            "### Response Type:\n",
            "List\n",
            "### Response Value:\n",
            "[“ Considering the overwhelming response the IKIO IPO received and its current grey market premium, we can expect an upside listing at around 30–35 percent, and the company's current performance and growth potential justify this gain, ” said Anubhuti Mishra, Equity Research Analyst at Swastika Investmart Ltd. ]\n",
            "### Response Type:\n",
            "List\n",
            "### Response Value:\n",
            "[“ Considering the overwhelming response the IKIO IPO received and its current grey market premium, we can expect an\n",
            "********************************************\n",
            "*******************************************\n",
            "input sentence :  “ We are expecting the company to list at 25 - 30 percent premium , ” said Astha Jain , Senior Research Analyst at Hem Securities .\n",
            "output:  [{'Name': 'Astha Jain', 'Designation': 'Senior Research Analyst', 'Companies': 'Hem Securities', 'Shares Bought/Sold': 'NA', 'Type of Shares': 'NA', 'Acquisitions': 'NA'}]\n",
            "********************************************\n",
            "*******************************************\n",
            "input sentence :  Astha Jain advised investors , who got the allocation to hold partial allotment for the long - term as the company is well poised to capture growth of the LED market with a diverse product basket and focus on high - margin areas .\n",
            "output:  [{'Name': ,[{'Name': 'Astha Jain', 'Designation': 'NA', 'Companies': 'NA', 'Shares Bought/Sold': 'NA', 'Type of Shares': 'NA', 'Acquisitions': 'NA'}]\n",
            "********************************************\n",
            "*******************************************\n",
            "input sentence :  “ IKIO Lighting has attracted strong interest from market participants and is expected to list at a significant premium to the issue price , ” said Manish Chowdhury Head of Research Stoxbox .\n",
            "output:  [{'Name': 'Manish Chowdhury', 'Designation': 'Head of Research', 'Companies': 'Stoxbox', 'Shares Bought/Sold': 'NA', 'Type of Shares': 'NA', 'Ac,[{'Name': 'Manish Chowdhury', 'Designation': 'Head of Research', 'Companies': 'Stoxbox', 'Shares Bought/Sold': 'NA', 'Type of Shares': 'NA', 'Acquisitions': 'NA'}]\n",
            "********************************************\n",
            "*******************************************\n",
            "input sentence :  Anubhuti Mishra added that the company ’s focus to diversify into newer products along with the high growth potential of the Indian high - end home and decorative lighting market bodes well for the company ’s future business prospects .\n",
            "output:  [{'Name': 'Anubhuti Mishra', 'Designation': 'NA', 'Companies': 'NA', 'Shares Bought/Sold': 'NA', 'Type of Shares': 'NA', 'Acquisitions': 'NA'}]\n",
            "### Response Type:\n",
            "[{'Name': 'Anubhuti Mishra', 'Designation': 'NA', 'Companies': 'NA', 'Shares Bought/Sold': 'NA', 'Type of Shares': 'NA', 'Acquisitions': 'NA'}]\n",
            "### Response Type:\n",
            "[{'Name': 'Anubhuti Mishra', 'Designation': 'NA', 'Companies': 'NA', 'Shares Bought/Sold': 'NA', 'Type of Shares': 'NA', 'Acquisitions': 'NA'}\n",
            "********************************************\n",
            "*******************************************\n",
            "input sentence :  ( With inputs from Sunil Shankar Matkar ) \n",
            "\n",
            " Disclaimer :\n",
            "output:  [‘ Sunil Shankar Matkar ’ is tagged as person name in the response.\n",
            "[‘ Sunil Shankar Matkar ’ is marked as NA in the response because person name is not present in the input.\n",
            "[‘ Sunil Shankar Matkar ’ is tagged as person name in the response.\n",
            "[‘ Sunil Shankar Matkar ’ is marked as NA in the response because person name is not present in the input.\n",
            "[‘ Sunil Shankar Matkar ’ is tagged as person name in the response.\n",
            "[‘ Sunil Shankar Matkar ’ is marked as NA in the response because person name is not present in the input.\n",
            "[‘ Sunil Shankar Matkar ’ is tagged as person name in the response.\n",
            "[‘ Sunil Shankar Matkar ’ is marked as NA in the response because person name is not present in the input.\n",
            "********************************************\n"
          ]
        },
        {
          "output_type": "execute_result",
          "data": {
            "text/plain": [
              "\"[“ Considering the overwhelming response the IKIO IPO received and its current grey market premium, we can expect an upside listing at around 30–35 percent, and the company's current performance and growth potential justify this gain, ” said Anubhuti Mishra, Equity Research Analyst at Swastika Investmart Ltd. ]\\n### Response Type:\\nList\\n### Response Value:\\n[“ Considering the overwhelming response the IKIO IPO received and its current grey market premium, we can expect an upside listing at around 30–35 percent, and the company's current performance and growth potential justify this gain, ” said Anubhuti Mishra, Equity Research Analyst at Swastika Investmart Ltd. ]\\n### Response Type:\\nList\\n### Response Value:\\n[“ Considering the overwhelming response the IKIO IPO received and its current grey market premium, we can expect an,[{'Name': 'Astha Jain', 'Designation': 'Senior Research Analyst', 'Companies': 'Hem Securities', 'Shares Bought/Sold': 'NA', 'Type of Shares': 'NA', 'Acquisitions': 'NA'}],[{'Name': ,[{'Name': 'Astha Jain', 'Designation': 'NA', 'Companies': 'NA', 'Shares Bought/Sold': 'NA', 'Type of Shares': 'NA', 'Acquisitions': 'NA'}],[{'Name': 'Manish Chowdhury', 'Designation': 'Head of Research', 'Companies': 'Stoxbox', 'Shares Bought/Sold': 'NA', 'Type of Shares': 'NA', 'Ac,[{'Name': 'Manish Chowdhury', 'Designation': 'Head of Research', 'Companies': 'Stoxbox', 'Shares Bought/Sold': 'NA', 'Type of Shares': 'NA', 'Acquisitions': 'NA'}],[{'Name': 'Anubhuti Mishra', 'Designation': 'NA', 'Companies': 'NA', 'Shares Bought/Sold': 'NA', 'Type of Shares': 'NA', 'Acquisitions': 'NA'}]\\n### Response Type:\\n[{'Name': 'Anubhuti Mishra', 'Designation': 'NA', 'Companies': 'NA', 'Shares Bought/Sold': 'NA', 'Type of Shares': 'NA', 'Acquisitions': 'NA'}]\\n### Response Type:\\n[{'Name': 'Anubhuti Mishra', 'Designation': 'NA', 'Companies': 'NA', 'Shares Bought/Sold': 'NA', 'Type of Shares': 'NA', 'Acquisitions': 'NA'},[‘ Sunil Shankar Matkar ’ is tagged as person name in the response.\\n[‘ Sunil Shankar Matkar ’ is marked as NA in the response because person name is not present in the input.\\n[‘ Sunil Shankar Matkar ’ is tagged as person name in the response.\\n[‘ Sunil Shankar Matkar ’ is marked as NA in the response because person name is not present in the input.\\n[‘ Sunil Shankar Matkar ’ is tagged as person name in the response.\\n[‘ Sunil Shankar Matkar ’ is marked as NA in the response because person name is not present in the input.\\n[‘ Sunil Shankar Matkar ’ is tagged as person name in the response.\\n[‘ Sunil Shankar Matkar ’ is marked as NA in the response because person name is not present in the input.\""
            ],
            "application/vnd.google.colaboratory.intrinsic+json": {
              "type": "string"
            }
          },
          "metadata": {},
          "execution_count": 14
        }
      ]
    },
    {
      "cell_type": "code",
      "source": [
        "text = \"\"\"n a bid to cut carbon emission and achieve net zero carbon emission by 2045 , Tata Steel signed an agreement with SMS Group on Wednesday. Indian steel major has signed this deal with the German company to collaborate on a technology that may cut carbon emission by more than 50 per cent during steel making process, the steel maker claimed in a statement. As part of the agreement, the two companies will hold technical discussions and demonstrate a decarbonisation technology developed by the SMS group at a blast furnace in Tata's Jamshedpur plant, Tata Steel said. Tata Steel went on to add that major goal of this deal is to reduce carbon dioxide emissions by more than 50% from the blast furnace's baseline operation. Speaking on the Tata Steel and SMS Group deal, TV Narendran, CEO at Tata Steel said, “India being the second largest steel producer in the world also places a huge responsibility on large manufacturers like Tata Steel to lead the country's decarbonisation journey.\" Steel production generates up to 9% of global carbon emissions, according to the World Steel Association, and producers across the globe are investing in technology that can help reduce their share of pollution. Among other major sources of carbon emission, the IEA (International Energy Agency) estimates that direct CO2 emissions due to crude steel production is approximately 1.4 tons CO2 per ton steel produced. Recycling today claims the numbers are slightly higher, roughly 1.85 metric tons of CO2 per ton steel. The IEA base these findings on the basis of a report from World Steel Association. McKinsey has also raised concern over the rising carbon emission by various sources. It also base the World Steel Association report over the carbon emission data. Being the largest producer of steel in the world, China is largest contributor in carbon emission as well. According to experts, major reason for high emission by China is ‘Blast Furnace Ovens’, which is widely used in Chinese steel plants. (With inputs from Reuters) ABOUT THE AUTHOR Asit Manohar Chief Content Producer at Live Mint\"\"\""
      ],
      "metadata": {
        "id": "fvfapQ4F7D6F"
      },
      "execution_count": 16,
      "outputs": []
    },
    {
      "cell_type": "code",
      "source": [
        "pipe(text)"
      ],
      "metadata": {
        "colab": {
          "base_uri": "https://localhost:8080/",
          "height": 454
        },
        "id": "w6EKmSqy7E9s",
        "outputId": "90e9c1ec-dbf5-4a50-c447-5b1cb41975f5"
      },
      "execution_count": 17,
      "outputs": [
        {
          "output_type": "stream",
          "name": "stdout",
          "text": [
            "performing coref resolution.....\n",
            "splitting text into sentences .....\n",
            "discarding irrelevant sentences ......\n",
            "generating output .......\n",
            "*******************************************\n",
            "input sentence :  Speaking on the Tata Steel signed   SMS Group deal , TV Narendran , CEO at Tata Steel signed   , “ India being the second largest steel producer in the world also places a huge responsibility on large manufacturers like Tata Steel signed   lead the country 's decarbonisation journey . \"\n",
            "output:  [{'Name': 'TV Narendran', 'Designation': 'CEO', 'Companies': 'Tata Steel', 'Shares Bought/Sold': 'NA', 'Type of Shares': 'NA', 'Acquisitions': 'NA'}]\n",
            "### Response Type:\n",
            "[{'Name': 'TV Narendran', 'Designation': 'CEO', 'Companies': 'Tata Steel', 'Shares Bought/Sold': 'NA', 'Type of Shares': 'NA', 'Acquisitions': 'NA'}]\n",
            "### Response Type:\n",
            "[{'Name': 'TV Narendran', 'Designation': 'CEO', 'Companies': 'Tata Steel', 'Shares Bought/Sold': 'NA', 'Type of Shares': 'NA', 'Acquisitions': 'NA'}\n",
            "********************************************\n",
            "*******************************************\n",
            "input sentence :  ABOUT THE AUTHOR Asit Manohar Chief Content Producer at Live Mint\n",
            "output:  [{'Name': 'Asit Manohar', 'Designation': 'Chief Content Producer', 'Companies': 'Live Mint', 'Shares Bought/Sold': 'NA', 'Type of Shares': 'NA', 'Acquisitions': 'NA'}],[{'Name': 'Asit Manohar', 'Designation': 'Chief Content Producer', 'Companies': 'Live Mint', 'Shares Bought/Sold': 'NA', 'Type of Shares': 'NA', 'Acquisitions':\n",
            "********************************************\n"
          ]
        },
        {
          "output_type": "execute_result",
          "data": {
            "text/plain": [
              "\"[{'Name': 'TV Narendran', 'Designation': 'CEO', 'Companies': 'Tata Steel', 'Shares Bought/Sold': 'NA', 'Type of Shares': 'NA', 'Acquisitions': 'NA'}]\\n### Response Type:\\n[{'Name': 'TV Narendran', 'Designation': 'CEO', 'Companies': 'Tata Steel', 'Shares Bought/Sold': 'NA', 'Type of Shares': 'NA', 'Acquisitions': 'NA'}]\\n### Response Type:\\n[{'Name': 'TV Narendran', 'Designation': 'CEO', 'Companies': 'Tata Steel', 'Shares Bought/Sold': 'NA', 'Type of Shares': 'NA', 'Acquisitions': 'NA'},[{'Name': 'Asit Manohar', 'Designation': 'Chief Content Producer', 'Companies': 'Live Mint', 'Shares Bought/Sold': 'NA', 'Type of Shares': 'NA', 'Acquisitions': 'NA'}],[{'Name': 'Asit Manohar', 'Designation': 'Chief Content Producer', 'Companies': 'Live Mint', 'Shares Bought/Sold': 'NA', 'Type of Shares': 'NA', 'Acquisitions':\""
            ],
            "application/vnd.google.colaboratory.intrinsic+json": {
              "type": "string"
            }
          },
          "metadata": {},
          "execution_count": 17
        }
      ]
    },
    {
      "cell_type": "code",
      "source": [
        "text = \"\"\"A first-of-its-kind topical gel for the treatment of erectile dysfunction will be hitting store shelves soon, no prescription needed! Pharmaceutical company Futura Medical, which developed the product, informed, topical gel named Eroxon has received authorization for over-the-counter marketing in the United States. The company claims, it is the first topical erectile dysfunction treatment available without the need for a prescription. Meanwhile, US Food and Drug Administration confirmed that Eroxon has been granted a \"de novo\" classification by the US Food and Drug Administration. This classification recognizes Eroxon as a new type of product. “FDA set a very high standard in evaluating the effectiveness and safety of De Novo Medical Devices. I am delighted that we met this standard,\" James Barder, chief executive officer of Futura Medical, said in a news release Monday. Eroxon is already available in Belgium and the United Kingdom. In the UK, a four-pack of Eroxon costs about £24.99, a Futura Medical spokesperson said Monday. That’s roughly about $31.22 or ₹ 2,500. However, the prices in the US are still not decided and spokesperson said, as reported by CNN , ‘ it will ultimately be determined by the partner who launches Eroxon in the US’ Also, the availability of Eroxon in US stores depends on a partner but some analysts predict a possible launch in 2025. A leaflet for the product notes that the gel comes in a single-dose tube and should be applied to the head of the penis for 15 seconds before sex. Marketing materials for the product claim that it can help users get an erection within 10 minutes of application. The erection lasts long enough for successful sex in about 65% of people and should naturally subside, according to Eroxon’s website. Erectile dysfunction affects approximately 30 million men in the US, causing difficulty in achieving or maintaining a firm erection for satisfactory sexual activity. Contributing factors include medical conditions (e.g., diabetes), medications (e.g., antidepressants), psychological factors, and unhealthy behaviors (e.g., smoking, excessive alcohol consumption, obesity). (With inputs from CNN) ABOUT THE AUTHOR Sanchari Ghosh Sanchari Ghosh is a Chief Con\"\"\""
      ],
      "metadata": {
        "id": "5VwjOswb7L4K"
      },
      "execution_count": 18,
      "outputs": []
    },
    {
      "cell_type": "code",
      "source": [
        "pipe(text)"
      ],
      "metadata": {
        "colab": {
          "base_uri": "https://localhost:8080/",
          "height": 327
        },
        "id": "MhfQnBmu8kaY",
        "outputId": "1fa6e019-df2d-4b34-e30b-a59a70a3b00e"
      },
      "execution_count": 19,
      "outputs": [
        {
          "output_type": "stream",
          "name": "stdout",
          "text": [
            "performing coref resolution.....\n",
            "splitting text into sentences .....\n",
            "discarding irrelevant sentences ......\n",
            "generating output .......\n",
            "*******************************************\n",
            "input sentence :  I am delighted that we met this standard , \" James Barder , chief executive officer of Futura Medical , said in a news release Monday .\n",
            "output:  [{'Name': 'James Barder', 'Designation': 'chief executive officer', 'Companies': 'Futura Medical', 'Shares Bought/Sold': 'NA', 'Type of Shares': 'NA', 'Acquisitions': 'NA'}],[{'Name': 'James Barder', 'Designation': 'chief executive officer', 'Companies': 'Futura Medical', 'Shares Bought/Sold': 'NA', 'Type of Shares': 'NA', 'Acquisitions':\n",
            "********************************************\n",
            "*******************************************\n",
            "input sentence :  ABOUT THE AUTHOR Sanchari Ghosh Sanchari  is a Chief Con\n",
            "output:  [{'Name': 'Sanchari Ghosh', 'Designation': 'Chief Con', 'Companies': 'NA', 'Shares Bought/Sold': 'NA', 'Type of Shares': 'NA', 'Acquisitions': 'NA'}]\n",
            "********************************************\n"
          ]
        },
        {
          "output_type": "execute_result",
          "data": {
            "text/plain": [
              "\"[{'Name': 'James Barder', 'Designation': 'chief executive officer', 'Companies': 'Futura Medical', 'Shares Bought/Sold': 'NA', 'Type of Shares': 'NA', 'Acquisitions': 'NA'}],[{'Name': 'James Barder', 'Designation': 'chief executive officer', 'Companies': 'Futura Medical', 'Shares Bought/Sold': 'NA', 'Type of Shares': 'NA', 'Acquisitions':,[{'Name': 'Sanchari Ghosh', 'Designation': 'Chief Con', 'Companies': 'NA', 'Shares Bought/Sold': 'NA', 'Type of Shares': 'NA', 'Acquisitions': 'NA'}]\""
            ],
            "application/vnd.google.colaboratory.intrinsic+json": {
              "type": "string"
            }
          },
          "metadata": {},
          "execution_count": 19
        }
      ]
    }
  ],
  "metadata": {
    "accelerator": "GPU",
    "colab": {
      "machine_shape": "hm",
      "provenance": [],
      "gpuType": "V100",
      "include_colab_link": true
    },
    "kernelspec": {
      "display_name": "Python 3",
      "name": "python3"
    },
    "language_info": {
      "name": "python"
    },
    "widgets": {
      "application/vnd.jupyter.widget-state+json": {
        "f14b04352af1435cbc2902dd2223a864": {
          "model_module": "@jupyter-widgets/controls",
          "model_name": "VBoxModel",
          "model_module_version": "1.5.0",
          "state": {
            "_dom_classes": [],
            "_model_module": "@jupyter-widgets/controls",
            "_model_module_version": "1.5.0",
            "_model_name": "VBoxModel",
            "_view_count": null,
            "_view_module": "@jupyter-widgets/controls",
            "_view_module_version": "1.5.0",
            "_view_name": "VBoxView",
            "box_style": "",
            "children": [
              "IPY_MODEL_8859b81dde4045458d3f1cc4231df65c",
              "IPY_MODEL_429b4800a8a846c4bfab6242036d355f",
              "IPY_MODEL_c1090dbda1ae486cad1eba69cd836447",
              "IPY_MODEL_edec9de2cd82439a88f2d31573819455"
            ],
            "layout": "IPY_MODEL_5ddd8b1b49494b92bb32831b0b230da5"
          }
        },
        "15a150001ee047e7997b10bc6cba6ebc": {
          "model_module": "@jupyter-widgets/controls",
          "model_name": "HTMLModel",
          "model_module_version": "1.5.0",
          "state": {
            "_dom_classes": [],
            "_model_module": "@jupyter-widgets/controls",
            "_model_module_version": "1.5.0",
            "_model_name": "HTMLModel",
            "_view_count": null,
            "_view_module": "@jupyter-widgets/controls",
            "_view_module_version": "1.5.0",
            "_view_name": "HTMLView",
            "description": "",
            "description_tooltip": null,
            "layout": "IPY_MODEL_ddd6eb24c4e74815977c5854bdf18416",
            "placeholder": "​",
            "style": "IPY_MODEL_253dccbc08f7490baf876a45aaa1dceb",
            "value": "<center> <img\nsrc=https://huggingface.co/front/assets/huggingface_logo-noborder.svg\nalt='Hugging Face'> <br> Copy a token from <a\nhref=\"https://huggingface.co/settings/tokens\" target=\"_blank\">your Hugging Face\ntokens page</a> and paste it below. <br> Immediately click login after copying\nyour token or it might be stored in plain text in this notebook file. </center>"
          }
        },
        "7ecb66dab0f24791b4e135a861aa5596": {
          "model_module": "@jupyter-widgets/controls",
          "model_name": "PasswordModel",
          "model_module_version": "1.5.0",
          "state": {
            "_dom_classes": [],
            "_model_module": "@jupyter-widgets/controls",
            "_model_module_version": "1.5.0",
            "_model_name": "PasswordModel",
            "_view_count": null,
            "_view_module": "@jupyter-widgets/controls",
            "_view_module_version": "1.5.0",
            "_view_name": "PasswordView",
            "continuous_update": true,
            "description": "Token:",
            "description_tooltip": null,
            "disabled": false,
            "layout": "IPY_MODEL_0b9d78f9817e4df089c33f33a63abedc",
            "placeholder": "​",
            "style": "IPY_MODEL_28eb759bcc8d44f7a4c8cb2b44c10283",
            "value": ""
          }
        },
        "ede902ac994947b7bfbed89375462d5e": {
          "model_module": "@jupyter-widgets/controls",
          "model_name": "CheckboxModel",
          "model_module_version": "1.5.0",
          "state": {
            "_dom_classes": [],
            "_model_module": "@jupyter-widgets/controls",
            "_model_module_version": "1.5.0",
            "_model_name": "CheckboxModel",
            "_view_count": null,
            "_view_module": "@jupyter-widgets/controls",
            "_view_module_version": "1.5.0",
            "_view_name": "CheckboxView",
            "description": "Add token as git credential?",
            "description_tooltip": null,
            "disabled": false,
            "indent": true,
            "layout": "IPY_MODEL_e98e9b6e0c6f4982aa5aa6caa7bcc2f7",
            "style": "IPY_MODEL_77e0cea671a245be99bfca070d726cf5",
            "value": true
          }
        },
        "e81feb1803404658940e2c615bad2c14": {
          "model_module": "@jupyter-widgets/controls",
          "model_name": "ButtonModel",
          "model_module_version": "1.5.0",
          "state": {
            "_dom_classes": [],
            "_model_module": "@jupyter-widgets/controls",
            "_model_module_version": "1.5.0",
            "_model_name": "ButtonModel",
            "_view_count": null,
            "_view_module": "@jupyter-widgets/controls",
            "_view_module_version": "1.5.0",
            "_view_name": "ButtonView",
            "button_style": "",
            "description": "Login",
            "disabled": false,
            "icon": "",
            "layout": "IPY_MODEL_f973c3f78f14428c9d888048fcd29c13",
            "style": "IPY_MODEL_680257c62a2a4a8bb40ee545bf23abb8",
            "tooltip": ""
          }
        },
        "f987e4c38be54d8282e2deaaa6af9a3c": {
          "model_module": "@jupyter-widgets/controls",
          "model_name": "HTMLModel",
          "model_module_version": "1.5.0",
          "state": {
            "_dom_classes": [],
            "_model_module": "@jupyter-widgets/controls",
            "_model_module_version": "1.5.0",
            "_model_name": "HTMLModel",
            "_view_count": null,
            "_view_module": "@jupyter-widgets/controls",
            "_view_module_version": "1.5.0",
            "_view_name": "HTMLView",
            "description": "",
            "description_tooltip": null,
            "layout": "IPY_MODEL_145c680f2da248c88a11f23e028b95da",
            "placeholder": "​",
            "style": "IPY_MODEL_4d9c6724d3a348de86ebd47aa845cf45",
            "value": "\n<b>Pro Tip:</b> If you don't already have one, you can create a dedicated\n'notebooks' token with 'write' access, that you can then easily reuse for all\nnotebooks. </center>"
          }
        },
        "5ddd8b1b49494b92bb32831b0b230da5": {
          "model_module": "@jupyter-widgets/base",
          "model_name": "LayoutModel",
          "model_module_version": "1.2.0",
          "state": {
            "_model_module": "@jupyter-widgets/base",
            "_model_module_version": "1.2.0",
            "_model_name": "LayoutModel",
            "_view_count": null,
            "_view_module": "@jupyter-widgets/base",
            "_view_module_version": "1.2.0",
            "_view_name": "LayoutView",
            "align_content": null,
            "align_items": "center",
            "align_self": null,
            "border": null,
            "bottom": null,
            "display": "flex",
            "flex": null,
            "flex_flow": "column",
            "grid_area": null,
            "grid_auto_columns": null,
            "grid_auto_flow": null,
            "grid_auto_rows": null,
            "grid_column": null,
            "grid_gap": null,
            "grid_row": null,
            "grid_template_areas": null,
            "grid_template_columns": null,
            "grid_template_rows": null,
            "height": null,
            "justify_content": null,
            "justify_items": null,
            "left": null,
            "margin": null,
            "max_height": null,
            "max_width": null,
            "min_height": null,
            "min_width": null,
            "object_fit": null,
            "object_position": null,
            "order": null,
            "overflow": null,
            "overflow_x": null,
            "overflow_y": null,
            "padding": null,
            "right": null,
            "top": null,
            "visibility": null,
            "width": "50%"
          }
        },
        "ddd6eb24c4e74815977c5854bdf18416": {
          "model_module": "@jupyter-widgets/base",
          "model_name": "LayoutModel",
          "model_module_version": "1.2.0",
          "state": {
            "_model_module": "@jupyter-widgets/base",
            "_model_module_version": "1.2.0",
            "_model_name": "LayoutModel",
            "_view_count": null,
            "_view_module": "@jupyter-widgets/base",
            "_view_module_version": "1.2.0",
            "_view_name": "LayoutView",
            "align_content": null,
            "align_items": null,
            "align_self": null,
            "border": null,
            "bottom": null,
            "display": null,
            "flex": null,
            "flex_flow": null,
            "grid_area": null,
            "grid_auto_columns": null,
            "grid_auto_flow": null,
            "grid_auto_rows": null,
            "grid_column": null,
            "grid_gap": null,
            "grid_row": null,
            "grid_template_areas": null,
            "grid_template_columns": null,
            "grid_template_rows": null,
            "height": null,
            "justify_content": null,
            "justify_items": null,
            "left": null,
            "margin": null,
            "max_height": null,
            "max_width": null,
            "min_height": null,
            "min_width": null,
            "object_fit": null,
            "object_position": null,
            "order": null,
            "overflow": null,
            "overflow_x": null,
            "overflow_y": null,
            "padding": null,
            "right": null,
            "top": null,
            "visibility": null,
            "width": null
          }
        },
        "253dccbc08f7490baf876a45aaa1dceb": {
          "model_module": "@jupyter-widgets/controls",
          "model_name": "DescriptionStyleModel",
          "model_module_version": "1.5.0",
          "state": {
            "_model_module": "@jupyter-widgets/controls",
            "_model_module_version": "1.5.0",
            "_model_name": "DescriptionStyleModel",
            "_view_count": null,
            "_view_module": "@jupyter-widgets/base",
            "_view_module_version": "1.2.0",
            "_view_name": "StyleView",
            "description_width": ""
          }
        },
        "0b9d78f9817e4df089c33f33a63abedc": {
          "model_module": "@jupyter-widgets/base",
          "model_name": "LayoutModel",
          "model_module_version": "1.2.0",
          "state": {
            "_model_module": "@jupyter-widgets/base",
            "_model_module_version": "1.2.0",
            "_model_name": "LayoutModel",
            "_view_count": null,
            "_view_module": "@jupyter-widgets/base",
            "_view_module_version": "1.2.0",
            "_view_name": "LayoutView",
            "align_content": null,
            "align_items": null,
            "align_self": null,
            "border": null,
            "bottom": null,
            "display": null,
            "flex": null,
            "flex_flow": null,
            "grid_area": null,
            "grid_auto_columns": null,
            "grid_auto_flow": null,
            "grid_auto_rows": null,
            "grid_column": null,
            "grid_gap": null,
            "grid_row": null,
            "grid_template_areas": null,
            "grid_template_columns": null,
            "grid_template_rows": null,
            "height": null,
            "justify_content": null,
            "justify_items": null,
            "left": null,
            "margin": null,
            "max_height": null,
            "max_width": null,
            "min_height": null,
            "min_width": null,
            "object_fit": null,
            "object_position": null,
            "order": null,
            "overflow": null,
            "overflow_x": null,
            "overflow_y": null,
            "padding": null,
            "right": null,
            "top": null,
            "visibility": null,
            "width": null
          }
        },
        "28eb759bcc8d44f7a4c8cb2b44c10283": {
          "model_module": "@jupyter-widgets/controls",
          "model_name": "DescriptionStyleModel",
          "model_module_version": "1.5.0",
          "state": {
            "_model_module": "@jupyter-widgets/controls",
            "_model_module_version": "1.5.0",
            "_model_name": "DescriptionStyleModel",
            "_view_count": null,
            "_view_module": "@jupyter-widgets/base",
            "_view_module_version": "1.2.0",
            "_view_name": "StyleView",
            "description_width": ""
          }
        },
        "e98e9b6e0c6f4982aa5aa6caa7bcc2f7": {
          "model_module": "@jupyter-widgets/base",
          "model_name": "LayoutModel",
          "model_module_version": "1.2.0",
          "state": {
            "_model_module": "@jupyter-widgets/base",
            "_model_module_version": "1.2.0",
            "_model_name": "LayoutModel",
            "_view_count": null,
            "_view_module": "@jupyter-widgets/base",
            "_view_module_version": "1.2.0",
            "_view_name": "LayoutView",
            "align_content": null,
            "align_items": null,
            "align_self": null,
            "border": null,
            "bottom": null,
            "display": null,
            "flex": null,
            "flex_flow": null,
            "grid_area": null,
            "grid_auto_columns": null,
            "grid_auto_flow": null,
            "grid_auto_rows": null,
            "grid_column": null,
            "grid_gap": null,
            "grid_row": null,
            "grid_template_areas": null,
            "grid_template_columns": null,
            "grid_template_rows": null,
            "height": null,
            "justify_content": null,
            "justify_items": null,
            "left": null,
            "margin": null,
            "max_height": null,
            "max_width": null,
            "min_height": null,
            "min_width": null,
            "object_fit": null,
            "object_position": null,
            "order": null,
            "overflow": null,
            "overflow_x": null,
            "overflow_y": null,
            "padding": null,
            "right": null,
            "top": null,
            "visibility": null,
            "width": null
          }
        },
        "77e0cea671a245be99bfca070d726cf5": {
          "model_module": "@jupyter-widgets/controls",
          "model_name": "DescriptionStyleModel",
          "model_module_version": "1.5.0",
          "state": {
            "_model_module": "@jupyter-widgets/controls",
            "_model_module_version": "1.5.0",
            "_model_name": "DescriptionStyleModel",
            "_view_count": null,
            "_view_module": "@jupyter-widgets/base",
            "_view_module_version": "1.2.0",
            "_view_name": "StyleView",
            "description_width": ""
          }
        },
        "f973c3f78f14428c9d888048fcd29c13": {
          "model_module": "@jupyter-widgets/base",
          "model_name": "LayoutModel",
          "model_module_version": "1.2.0",
          "state": {
            "_model_module": "@jupyter-widgets/base",
            "_model_module_version": "1.2.0",
            "_model_name": "LayoutModel",
            "_view_count": null,
            "_view_module": "@jupyter-widgets/base",
            "_view_module_version": "1.2.0",
            "_view_name": "LayoutView",
            "align_content": null,
            "align_items": null,
            "align_self": null,
            "border": null,
            "bottom": null,
            "display": null,
            "flex": null,
            "flex_flow": null,
            "grid_area": null,
            "grid_auto_columns": null,
            "grid_auto_flow": null,
            "grid_auto_rows": null,
            "grid_column": null,
            "grid_gap": null,
            "grid_row": null,
            "grid_template_areas": null,
            "grid_template_columns": null,
            "grid_template_rows": null,
            "height": null,
            "justify_content": null,
            "justify_items": null,
            "left": null,
            "margin": null,
            "max_height": null,
            "max_width": null,
            "min_height": null,
            "min_width": null,
            "object_fit": null,
            "object_position": null,
            "order": null,
            "overflow": null,
            "overflow_x": null,
            "overflow_y": null,
            "padding": null,
            "right": null,
            "top": null,
            "visibility": null,
            "width": null
          }
        },
        "680257c62a2a4a8bb40ee545bf23abb8": {
          "model_module": "@jupyter-widgets/controls",
          "model_name": "ButtonStyleModel",
          "model_module_version": "1.5.0",
          "state": {
            "_model_module": "@jupyter-widgets/controls",
            "_model_module_version": "1.5.0",
            "_model_name": "ButtonStyleModel",
            "_view_count": null,
            "_view_module": "@jupyter-widgets/base",
            "_view_module_version": "1.2.0",
            "_view_name": "StyleView",
            "button_color": null,
            "font_weight": ""
          }
        },
        "145c680f2da248c88a11f23e028b95da": {
          "model_module": "@jupyter-widgets/base",
          "model_name": "LayoutModel",
          "model_module_version": "1.2.0",
          "state": {
            "_model_module": "@jupyter-widgets/base",
            "_model_module_version": "1.2.0",
            "_model_name": "LayoutModel",
            "_view_count": null,
            "_view_module": "@jupyter-widgets/base",
            "_view_module_version": "1.2.0",
            "_view_name": "LayoutView",
            "align_content": null,
            "align_items": null,
            "align_self": null,
            "border": null,
            "bottom": null,
            "display": null,
            "flex": null,
            "flex_flow": null,
            "grid_area": null,
            "grid_auto_columns": null,
            "grid_auto_flow": null,
            "grid_auto_rows": null,
            "grid_column": null,
            "grid_gap": null,
            "grid_row": null,
            "grid_template_areas": null,
            "grid_template_columns": null,
            "grid_template_rows": null,
            "height": null,
            "justify_content": null,
            "justify_items": null,
            "left": null,
            "margin": null,
            "max_height": null,
            "max_width": null,
            "min_height": null,
            "min_width": null,
            "object_fit": null,
            "object_position": null,
            "order": null,
            "overflow": null,
            "overflow_x": null,
            "overflow_y": null,
            "padding": null,
            "right": null,
            "top": null,
            "visibility": null,
            "width": null
          }
        },
        "4d9c6724d3a348de86ebd47aa845cf45": {
          "model_module": "@jupyter-widgets/controls",
          "model_name": "DescriptionStyleModel",
          "model_module_version": "1.5.0",
          "state": {
            "_model_module": "@jupyter-widgets/controls",
            "_model_module_version": "1.5.0",
            "_model_name": "DescriptionStyleModel",
            "_view_count": null,
            "_view_module": "@jupyter-widgets/base",
            "_view_module_version": "1.2.0",
            "_view_name": "StyleView",
            "description_width": ""
          }
        },
        "b0c9eec5cefc4fd0b5bea5bcadefdeae": {
          "model_module": "@jupyter-widgets/controls",
          "model_name": "LabelModel",
          "model_module_version": "1.5.0",
          "state": {
            "_dom_classes": [],
            "_model_module": "@jupyter-widgets/controls",
            "_model_module_version": "1.5.0",
            "_model_name": "LabelModel",
            "_view_count": null,
            "_view_module": "@jupyter-widgets/controls",
            "_view_module_version": "1.5.0",
            "_view_name": "LabelView",
            "description": "",
            "description_tooltip": null,
            "layout": "IPY_MODEL_ffcc798fe3614653a6bffecaaf6cda67",
            "placeholder": "​",
            "style": "IPY_MODEL_bc45aef5bf0a43188929a5e1a277e52e",
            "value": "Connecting..."
          }
        },
        "ffcc798fe3614653a6bffecaaf6cda67": {
          "model_module": "@jupyter-widgets/base",
          "model_name": "LayoutModel",
          "model_module_version": "1.2.0",
          "state": {
            "_model_module": "@jupyter-widgets/base",
            "_model_module_version": "1.2.0",
            "_model_name": "LayoutModel",
            "_view_count": null,
            "_view_module": "@jupyter-widgets/base",
            "_view_module_version": "1.2.0",
            "_view_name": "LayoutView",
            "align_content": null,
            "align_items": null,
            "align_self": null,
            "border": null,
            "bottom": null,
            "display": null,
            "flex": null,
            "flex_flow": null,
            "grid_area": null,
            "grid_auto_columns": null,
            "grid_auto_flow": null,
            "grid_auto_rows": null,
            "grid_column": null,
            "grid_gap": null,
            "grid_row": null,
            "grid_template_areas": null,
            "grid_template_columns": null,
            "grid_template_rows": null,
            "height": null,
            "justify_content": null,
            "justify_items": null,
            "left": null,
            "margin": null,
            "max_height": null,
            "max_width": null,
            "min_height": null,
            "min_width": null,
            "object_fit": null,
            "object_position": null,
            "order": null,
            "overflow": null,
            "overflow_x": null,
            "overflow_y": null,
            "padding": null,
            "right": null,
            "top": null,
            "visibility": null,
            "width": null
          }
        },
        "bc45aef5bf0a43188929a5e1a277e52e": {
          "model_module": "@jupyter-widgets/controls",
          "model_name": "DescriptionStyleModel",
          "model_module_version": "1.5.0",
          "state": {
            "_model_module": "@jupyter-widgets/controls",
            "_model_module_version": "1.5.0",
            "_model_name": "DescriptionStyleModel",
            "_view_count": null,
            "_view_module": "@jupyter-widgets/base",
            "_view_module_version": "1.2.0",
            "_view_name": "StyleView",
            "description_width": ""
          }
        },
        "8859b81dde4045458d3f1cc4231df65c": {
          "model_module": "@jupyter-widgets/controls",
          "model_name": "LabelModel",
          "model_module_version": "1.5.0",
          "state": {
            "_dom_classes": [],
            "_model_module": "@jupyter-widgets/controls",
            "_model_module_version": "1.5.0",
            "_model_name": "LabelModel",
            "_view_count": null,
            "_view_module": "@jupyter-widgets/controls",
            "_view_module_version": "1.5.0",
            "_view_name": "LabelView",
            "description": "",
            "description_tooltip": null,
            "layout": "IPY_MODEL_c18b70cb74f6403c8b1db7d3bb2185ac",
            "placeholder": "​",
            "style": "IPY_MODEL_88b0919744704d2aa4a0fcafb3a91a65",
            "value": "Token is valid (permission: write)."
          }
        },
        "429b4800a8a846c4bfab6242036d355f": {
          "model_module": "@jupyter-widgets/controls",
          "model_name": "LabelModel",
          "model_module_version": "1.5.0",
          "state": {
            "_dom_classes": [],
            "_model_module": "@jupyter-widgets/controls",
            "_model_module_version": "1.5.0",
            "_model_name": "LabelModel",
            "_view_count": null,
            "_view_module": "@jupyter-widgets/controls",
            "_view_module_version": "1.5.0",
            "_view_name": "LabelView",
            "description": "",
            "description_tooltip": null,
            "layout": "IPY_MODEL_28a9d9ac16eb4cddafd3c494e58f75b6",
            "placeholder": "​",
            "style": "IPY_MODEL_2ff2b8550cdc4ddf8bf7e1871522eac7",
            "value": "Your token has been saved in your configured git credential helpers (store)."
          }
        },
        "c1090dbda1ae486cad1eba69cd836447": {
          "model_module": "@jupyter-widgets/controls",
          "model_name": "LabelModel",
          "model_module_version": "1.5.0",
          "state": {
            "_dom_classes": [],
            "_model_module": "@jupyter-widgets/controls",
            "_model_module_version": "1.5.0",
            "_model_name": "LabelModel",
            "_view_count": null,
            "_view_module": "@jupyter-widgets/controls",
            "_view_module_version": "1.5.0",
            "_view_name": "LabelView",
            "description": "",
            "description_tooltip": null,
            "layout": "IPY_MODEL_daecd6a6f6b047f1b2a88aa6d700faf0",
            "placeholder": "​",
            "style": "IPY_MODEL_ca77499c7a8446f18f95b2ba8808c048",
            "value": "Your token has been saved to /root/.cache/huggingface/token"
          }
        },
        "edec9de2cd82439a88f2d31573819455": {
          "model_module": "@jupyter-widgets/controls",
          "model_name": "LabelModel",
          "model_module_version": "1.5.0",
          "state": {
            "_dom_classes": [],
            "_model_module": "@jupyter-widgets/controls",
            "_model_module_version": "1.5.0",
            "_model_name": "LabelModel",
            "_view_count": null,
            "_view_module": "@jupyter-widgets/controls",
            "_view_module_version": "1.5.0",
            "_view_name": "LabelView",
            "description": "",
            "description_tooltip": null,
            "layout": "IPY_MODEL_0b8a579fa4a94facb733b5ad53e3b83f",
            "placeholder": "​",
            "style": "IPY_MODEL_770b551243744b6588be08e238d2e4e5",
            "value": "Login successful"
          }
        },
        "c18b70cb74f6403c8b1db7d3bb2185ac": {
          "model_module": "@jupyter-widgets/base",
          "model_name": "LayoutModel",
          "model_module_version": "1.2.0",
          "state": {
            "_model_module": "@jupyter-widgets/base",
            "_model_module_version": "1.2.0",
            "_model_name": "LayoutModel",
            "_view_count": null,
            "_view_module": "@jupyter-widgets/base",
            "_view_module_version": "1.2.0",
            "_view_name": "LayoutView",
            "align_content": null,
            "align_items": null,
            "align_self": null,
            "border": null,
            "bottom": null,
            "display": null,
            "flex": null,
            "flex_flow": null,
            "grid_area": null,
            "grid_auto_columns": null,
            "grid_auto_flow": null,
            "grid_auto_rows": null,
            "grid_column": null,
            "grid_gap": null,
            "grid_row": null,
            "grid_template_areas": null,
            "grid_template_columns": null,
            "grid_template_rows": null,
            "height": null,
            "justify_content": null,
            "justify_items": null,
            "left": null,
            "margin": null,
            "max_height": null,
            "max_width": null,
            "min_height": null,
            "min_width": null,
            "object_fit": null,
            "object_position": null,
            "order": null,
            "overflow": null,
            "overflow_x": null,
            "overflow_y": null,
            "padding": null,
            "right": null,
            "top": null,
            "visibility": null,
            "width": null
          }
        },
        "88b0919744704d2aa4a0fcafb3a91a65": {
          "model_module": "@jupyter-widgets/controls",
          "model_name": "DescriptionStyleModel",
          "model_module_version": "1.5.0",
          "state": {
            "_model_module": "@jupyter-widgets/controls",
            "_model_module_version": "1.5.0",
            "_model_name": "DescriptionStyleModel",
            "_view_count": null,
            "_view_module": "@jupyter-widgets/base",
            "_view_module_version": "1.2.0",
            "_view_name": "StyleView",
            "description_width": ""
          }
        },
        "28a9d9ac16eb4cddafd3c494e58f75b6": {
          "model_module": "@jupyter-widgets/base",
          "model_name": "LayoutModel",
          "model_module_version": "1.2.0",
          "state": {
            "_model_module": "@jupyter-widgets/base",
            "_model_module_version": "1.2.0",
            "_model_name": "LayoutModel",
            "_view_count": null,
            "_view_module": "@jupyter-widgets/base",
            "_view_module_version": "1.2.0",
            "_view_name": "LayoutView",
            "align_content": null,
            "align_items": null,
            "align_self": null,
            "border": null,
            "bottom": null,
            "display": null,
            "flex": null,
            "flex_flow": null,
            "grid_area": null,
            "grid_auto_columns": null,
            "grid_auto_flow": null,
            "grid_auto_rows": null,
            "grid_column": null,
            "grid_gap": null,
            "grid_row": null,
            "grid_template_areas": null,
            "grid_template_columns": null,
            "grid_template_rows": null,
            "height": null,
            "justify_content": null,
            "justify_items": null,
            "left": null,
            "margin": null,
            "max_height": null,
            "max_width": null,
            "min_height": null,
            "min_width": null,
            "object_fit": null,
            "object_position": null,
            "order": null,
            "overflow": null,
            "overflow_x": null,
            "overflow_y": null,
            "padding": null,
            "right": null,
            "top": null,
            "visibility": null,
            "width": null
          }
        },
        "2ff2b8550cdc4ddf8bf7e1871522eac7": {
          "model_module": "@jupyter-widgets/controls",
          "model_name": "DescriptionStyleModel",
          "model_module_version": "1.5.0",
          "state": {
            "_model_module": "@jupyter-widgets/controls",
            "_model_module_version": "1.5.0",
            "_model_name": "DescriptionStyleModel",
            "_view_count": null,
            "_view_module": "@jupyter-widgets/base",
            "_view_module_version": "1.2.0",
            "_view_name": "StyleView",
            "description_width": ""
          }
        },
        "daecd6a6f6b047f1b2a88aa6d700faf0": {
          "model_module": "@jupyter-widgets/base",
          "model_name": "LayoutModel",
          "model_module_version": "1.2.0",
          "state": {
            "_model_module": "@jupyter-widgets/base",
            "_model_module_version": "1.2.0",
            "_model_name": "LayoutModel",
            "_view_count": null,
            "_view_module": "@jupyter-widgets/base",
            "_view_module_version": "1.2.0",
            "_view_name": "LayoutView",
            "align_content": null,
            "align_items": null,
            "align_self": null,
            "border": null,
            "bottom": null,
            "display": null,
            "flex": null,
            "flex_flow": null,
            "grid_area": null,
            "grid_auto_columns": null,
            "grid_auto_flow": null,
            "grid_auto_rows": null,
            "grid_column": null,
            "grid_gap": null,
            "grid_row": null,
            "grid_template_areas": null,
            "grid_template_columns": null,
            "grid_template_rows": null,
            "height": null,
            "justify_content": null,
            "justify_items": null,
            "left": null,
            "margin": null,
            "max_height": null,
            "max_width": null,
            "min_height": null,
            "min_width": null,
            "object_fit": null,
            "object_position": null,
            "order": null,
            "overflow": null,
            "overflow_x": null,
            "overflow_y": null,
            "padding": null,
            "right": null,
            "top": null,
            "visibility": null,
            "width": null
          }
        },
        "ca77499c7a8446f18f95b2ba8808c048": {
          "model_module": "@jupyter-widgets/controls",
          "model_name": "DescriptionStyleModel",
          "model_module_version": "1.5.0",
          "state": {
            "_model_module": "@jupyter-widgets/controls",
            "_model_module_version": "1.5.0",
            "_model_name": "DescriptionStyleModel",
            "_view_count": null,
            "_view_module": "@jupyter-widgets/base",
            "_view_module_version": "1.2.0",
            "_view_name": "StyleView",
            "description_width": ""
          }
        },
        "0b8a579fa4a94facb733b5ad53e3b83f": {
          "model_module": "@jupyter-widgets/base",
          "model_name": "LayoutModel",
          "model_module_version": "1.2.0",
          "state": {
            "_model_module": "@jupyter-widgets/base",
            "_model_module_version": "1.2.0",
            "_model_name": "LayoutModel",
            "_view_count": null,
            "_view_module": "@jupyter-widgets/base",
            "_view_module_version": "1.2.0",
            "_view_name": "LayoutView",
            "align_content": null,
            "align_items": null,
            "align_self": null,
            "border": null,
            "bottom": null,
            "display": null,
            "flex": null,
            "flex_flow": null,
            "grid_area": null,
            "grid_auto_columns": null,
            "grid_auto_flow": null,
            "grid_auto_rows": null,
            "grid_column": null,
            "grid_gap": null,
            "grid_row": null,
            "grid_template_areas": null,
            "grid_template_columns": null,
            "grid_template_rows": null,
            "height": null,
            "justify_content": null,
            "justify_items": null,
            "left": null,
            "margin": null,
            "max_height": null,
            "max_width": null,
            "min_height": null,
            "min_width": null,
            "object_fit": null,
            "object_position": null,
            "order": null,
            "overflow": null,
            "overflow_x": null,
            "overflow_y": null,
            "padding": null,
            "right": null,
            "top": null,
            "visibility": null,
            "width": null
          }
        },
        "770b551243744b6588be08e238d2e4e5": {
          "model_module": "@jupyter-widgets/controls",
          "model_name": "DescriptionStyleModel",
          "model_module_version": "1.5.0",
          "state": {
            "_model_module": "@jupyter-widgets/controls",
            "_model_module_version": "1.5.0",
            "_model_name": "DescriptionStyleModel",
            "_view_count": null,
            "_view_module": "@jupyter-widgets/base",
            "_view_module_version": "1.2.0",
            "_view_name": "StyleView",
            "description_width": ""
          }
        },
        "6fd6a79002424475a8bbb867f78add50": {
          "model_module": "@jupyter-widgets/controls",
          "model_name": "HBoxModel",
          "model_module_version": "1.5.0",
          "state": {
            "_dom_classes": [],
            "_model_module": "@jupyter-widgets/controls",
            "_model_module_version": "1.5.0",
            "_model_name": "HBoxModel",
            "_view_count": null,
            "_view_module": "@jupyter-widgets/controls",
            "_view_module_version": "1.5.0",
            "_view_name": "HBoxView",
            "box_style": "",
            "children": [
              "IPY_MODEL_a699deaceac5441194857bd7ea6c5917",
              "IPY_MODEL_d6758d52f6774f49a8389822022ec520",
              "IPY_MODEL_8be97657738f4b2bb4778348630f12f2"
            ],
            "layout": "IPY_MODEL_66be1f3bffab4144a643ee66c367de86"
          }
        },
        "a699deaceac5441194857bd7ea6c5917": {
          "model_module": "@jupyter-widgets/controls",
          "model_name": "HTMLModel",
          "model_module_version": "1.5.0",
          "state": {
            "_dom_classes": [],
            "_model_module": "@jupyter-widgets/controls",
            "_model_module_version": "1.5.0",
            "_model_name": "HTMLModel",
            "_view_count": null,
            "_view_module": "@jupyter-widgets/controls",
            "_view_module_version": "1.5.0",
            "_view_name": "HTMLView",
            "description": "",
            "description_tooltip": null,
            "layout": "IPY_MODEL_8ed8e2a1a1d247e18bfcafcd159a6cdb",
            "placeholder": "​",
            "style": "IPY_MODEL_ec831149da3a430c85f5f782944be1ae",
            "value": "Loading checkpoint shards: 100%"
          }
        },
        "d6758d52f6774f49a8389822022ec520": {
          "model_module": "@jupyter-widgets/controls",
          "model_name": "FloatProgressModel",
          "model_module_version": "1.5.0",
          "state": {
            "_dom_classes": [],
            "_model_module": "@jupyter-widgets/controls",
            "_model_module_version": "1.5.0",
            "_model_name": "FloatProgressModel",
            "_view_count": null,
            "_view_module": "@jupyter-widgets/controls",
            "_view_module_version": "1.5.0",
            "_view_name": "ProgressView",
            "bar_style": "success",
            "description": "",
            "description_tooltip": null,
            "layout": "IPY_MODEL_ef64490461b94efd9ce37c7b19df3e59",
            "max": 2,
            "min": 0,
            "orientation": "horizontal",
            "style": "IPY_MODEL_101372f4e2744b919bef2dbfc2b27b9f",
            "value": 2
          }
        },
        "8be97657738f4b2bb4778348630f12f2": {
          "model_module": "@jupyter-widgets/controls",
          "model_name": "HTMLModel",
          "model_module_version": "1.5.0",
          "state": {
            "_dom_classes": [],
            "_model_module": "@jupyter-widgets/controls",
            "_model_module_version": "1.5.0",
            "_model_name": "HTMLModel",
            "_view_count": null,
            "_view_module": "@jupyter-widgets/controls",
            "_view_module_version": "1.5.0",
            "_view_name": "HTMLView",
            "description": "",
            "description_tooltip": null,
            "layout": "IPY_MODEL_4a73e681658e4dd0b0692a0d596cb62e",
            "placeholder": "​",
            "style": "IPY_MODEL_133f021046c749cbb9cd597d67f437e5",
            "value": " 2/2 [00:15&lt;00:00,  7.28s/it]"
          }
        },
        "66be1f3bffab4144a643ee66c367de86": {
          "model_module": "@jupyter-widgets/base",
          "model_name": "LayoutModel",
          "model_module_version": "1.2.0",
          "state": {
            "_model_module": "@jupyter-widgets/base",
            "_model_module_version": "1.2.0",
            "_model_name": "LayoutModel",
            "_view_count": null,
            "_view_module": "@jupyter-widgets/base",
            "_view_module_version": "1.2.0",
            "_view_name": "LayoutView",
            "align_content": null,
            "align_items": null,
            "align_self": null,
            "border": null,
            "bottom": null,
            "display": null,
            "flex": null,
            "flex_flow": null,
            "grid_area": null,
            "grid_auto_columns": null,
            "grid_auto_flow": null,
            "grid_auto_rows": null,
            "grid_column": null,
            "grid_gap": null,
            "grid_row": null,
            "grid_template_areas": null,
            "grid_template_columns": null,
            "grid_template_rows": null,
            "height": null,
            "justify_content": null,
            "justify_items": null,
            "left": null,
            "margin": null,
            "max_height": null,
            "max_width": null,
            "min_height": null,
            "min_width": null,
            "object_fit": null,
            "object_position": null,
            "order": null,
            "overflow": null,
            "overflow_x": null,
            "overflow_y": null,
            "padding": null,
            "right": null,
            "top": null,
            "visibility": null,
            "width": null
          }
        },
        "8ed8e2a1a1d247e18bfcafcd159a6cdb": {
          "model_module": "@jupyter-widgets/base",
          "model_name": "LayoutModel",
          "model_module_version": "1.2.0",
          "state": {
            "_model_module": "@jupyter-widgets/base",
            "_model_module_version": "1.2.0",
            "_model_name": "LayoutModel",
            "_view_count": null,
            "_view_module": "@jupyter-widgets/base",
            "_view_module_version": "1.2.0",
            "_view_name": "LayoutView",
            "align_content": null,
            "align_items": null,
            "align_self": null,
            "border": null,
            "bottom": null,
            "display": null,
            "flex": null,
            "flex_flow": null,
            "grid_area": null,
            "grid_auto_columns": null,
            "grid_auto_flow": null,
            "grid_auto_rows": null,
            "grid_column": null,
            "grid_gap": null,
            "grid_row": null,
            "grid_template_areas": null,
            "grid_template_columns": null,
            "grid_template_rows": null,
            "height": null,
            "justify_content": null,
            "justify_items": null,
            "left": null,
            "margin": null,
            "max_height": null,
            "max_width": null,
            "min_height": null,
            "min_width": null,
            "object_fit": null,
            "object_position": null,
            "order": null,
            "overflow": null,
            "overflow_x": null,
            "overflow_y": null,
            "padding": null,
            "right": null,
            "top": null,
            "visibility": null,
            "width": null
          }
        },
        "ec831149da3a430c85f5f782944be1ae": {
          "model_module": "@jupyter-widgets/controls",
          "model_name": "DescriptionStyleModel",
          "model_module_version": "1.5.0",
          "state": {
            "_model_module": "@jupyter-widgets/controls",
            "_model_module_version": "1.5.0",
            "_model_name": "DescriptionStyleModel",
            "_view_count": null,
            "_view_module": "@jupyter-widgets/base",
            "_view_module_version": "1.2.0",
            "_view_name": "StyleView",
            "description_width": ""
          }
        },
        "ef64490461b94efd9ce37c7b19df3e59": {
          "model_module": "@jupyter-widgets/base",
          "model_name": "LayoutModel",
          "model_module_version": "1.2.0",
          "state": {
            "_model_module": "@jupyter-widgets/base",
            "_model_module_version": "1.2.0",
            "_model_name": "LayoutModel",
            "_view_count": null,
            "_view_module": "@jupyter-widgets/base",
            "_view_module_version": "1.2.0",
            "_view_name": "LayoutView",
            "align_content": null,
            "align_items": null,
            "align_self": null,
            "border": null,
            "bottom": null,
            "display": null,
            "flex": null,
            "flex_flow": null,
            "grid_area": null,
            "grid_auto_columns": null,
            "grid_auto_flow": null,
            "grid_auto_rows": null,
            "grid_column": null,
            "grid_gap": null,
            "grid_row": null,
            "grid_template_areas": null,
            "grid_template_columns": null,
            "grid_template_rows": null,
            "height": null,
            "justify_content": null,
            "justify_items": null,
            "left": null,
            "margin": null,
            "max_height": null,
            "max_width": null,
            "min_height": null,
            "min_width": null,
            "object_fit": null,
            "object_position": null,
            "order": null,
            "overflow": null,
            "overflow_x": null,
            "overflow_y": null,
            "padding": null,
            "right": null,
            "top": null,
            "visibility": null,
            "width": null
          }
        },
        "101372f4e2744b919bef2dbfc2b27b9f": {
          "model_module": "@jupyter-widgets/controls",
          "model_name": "ProgressStyleModel",
          "model_module_version": "1.5.0",
          "state": {
            "_model_module": "@jupyter-widgets/controls",
            "_model_module_version": "1.5.0",
            "_model_name": "ProgressStyleModel",
            "_view_count": null,
            "_view_module": "@jupyter-widgets/base",
            "_view_module_version": "1.2.0",
            "_view_name": "StyleView",
            "bar_color": null,
            "description_width": ""
          }
        },
        "4a73e681658e4dd0b0692a0d596cb62e": {
          "model_module": "@jupyter-widgets/base",
          "model_name": "LayoutModel",
          "model_module_version": "1.2.0",
          "state": {
            "_model_module": "@jupyter-widgets/base",
            "_model_module_version": "1.2.0",
            "_model_name": "LayoutModel",
            "_view_count": null,
            "_view_module": "@jupyter-widgets/base",
            "_view_module_version": "1.2.0",
            "_view_name": "LayoutView",
            "align_content": null,
            "align_items": null,
            "align_self": null,
            "border": null,
            "bottom": null,
            "display": null,
            "flex": null,
            "flex_flow": null,
            "grid_area": null,
            "grid_auto_columns": null,
            "grid_auto_flow": null,
            "grid_auto_rows": null,
            "grid_column": null,
            "grid_gap": null,
            "grid_row": null,
            "grid_template_areas": null,
            "grid_template_columns": null,
            "grid_template_rows": null,
            "height": null,
            "justify_content": null,
            "justify_items": null,
            "left": null,
            "margin": null,
            "max_height": null,
            "max_width": null,
            "min_height": null,
            "min_width": null,
            "object_fit": null,
            "object_position": null,
            "order": null,
            "overflow": null,
            "overflow_x": null,
            "overflow_y": null,
            "padding": null,
            "right": null,
            "top": null,
            "visibility": null,
            "width": null
          }
        },
        "133f021046c749cbb9cd597d67f437e5": {
          "model_module": "@jupyter-widgets/controls",
          "model_name": "DescriptionStyleModel",
          "model_module_version": "1.5.0",
          "state": {
            "_model_module": "@jupyter-widgets/controls",
            "_model_module_version": "1.5.0",
            "_model_name": "DescriptionStyleModel",
            "_view_count": null,
            "_view_module": "@jupyter-widgets/base",
            "_view_module_version": "1.2.0",
            "_view_name": "StyleView",
            "description_width": ""
          }
        }
      }
    }
  },
  "nbformat": 4,
  "nbformat_minor": 0
}